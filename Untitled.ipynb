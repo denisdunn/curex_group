{
 "cells": [
  {
   "cell_type": "code",
   "execution_count": 2,
   "metadata": {},
   "outputs": [],
   "source": [
    "import pandas as pd\n",
    "import numpy as np\n",
    "import sklearn\n",
    "import matplotlib\n",
    "import statsmodels\n",
    "import itertools"
   ]
  },
  {
   "cell_type": "code",
   "execution_count": 69,
   "metadata": {},
   "outputs": [],
   "source": [
    "df = pd.read_csv(r\"C:\\Users\\ddunn.CUREXCURRENCY\\Desktop\\fils_and_misses_with_placement_book_status.csv\")"
   ]
  },
  {
   "cell_type": "code",
   "execution_count": 83,
   "metadata": {},
   "outputs": [],
   "source": [
    "names = pd.read_csv(r\"C:\\Users\\ddunn.CUREXCURRENCY\\Desktop\\column_names.csv\")"
   ]
  },
  {
   "cell_type": "code",
   "execution_count": 91,
   "metadata": {},
   "outputs": [],
   "source": [
    "of = pd.read_excel(r\"C:\\Users\\ddunn.CUREXCURRENCY\\denis_fill_miss_v9.xlsx\")"
   ]
  },
  {
   "cell_type": "code",
   "execution_count": 181,
   "metadata": {},
   "outputs": [],
   "source": [
    "ad = pd.read_csv(r\"C:\\Users\\ddunn.CUREXCURRENCY\\Desktop\\all_data_with_book_join_preplacement.csv\")"
   ]
  },
  {
   "cell_type": "code",
   "execution_count": 182,
   "metadata": {},
   "outputs": [
    {
     "name": "stdout",
     "output_type": "stream",
     "text": [
      "<class 'pandas.core.frame.DataFrame'>\n",
      "RangeIndex: 1089784 entries, 0 to 1089783\n",
      "Data columns (total 51 columns):\n",
      " #   Column                             Non-Null Count    Dtype  \n",
      "---  ------                             --------------    -----  \n",
      " 0   FirmName                           1089784 non-null  object \n",
      " 1   ClientFirmName                     1089784 non-null  object \n",
      " 2   ClientIdentified                   1089784 non-null  object \n",
      " 3   UserName                           1089784 non-null  object \n",
      " 4   ReceiveTime                        1089784 non-null  object \n",
      " 5   ActivationTime                     1089784 non-null  object \n",
      " 6   ReceiveTimeEST                     1089784 non-null  object \n",
      " 7   ActivationTimeEST                  1089784 non-null  object \n",
      " 8   Year                               1089784 non-null  int64  \n",
      " 9   YearQuarter                        1089784 non-null  int64  \n",
      " 10  WeekOfYear                         1089784 non-null  int64  \n",
      " 11  TradingWeek                        1089784 non-null  object \n",
      " 12  TradeDate                          1089784 non-null  object \n",
      " 13  MissClass                          1081044 non-null  object \n",
      " 14  MissDelta                          1089784 non-null  int64  \n",
      " 15  AggressivePassive                  1089784 non-null  object \n",
      " 16  OrderId                            1089784 non-null  int64  \n",
      " 17  Symbol                             1089784 non-null  object \n",
      " 18  OrderType                          1089784 non-null  object \n",
      " 19  TIF                                1089784 non-null  object \n",
      " 20  BuySell                            1089784 non-null  object \n",
      " 21  MissFill                           1089784 non-null  object \n",
      " 22  MissFillPartial                    1089784 non-null  object \n",
      " 23  OrderPrice                         1089784 non-null  float64\n",
      " 24  OrderAmount                        1089784 non-null  float64\n",
      " 25  OrderAmountDone                    1089784 non-null  float64\n",
      " 26  PlacementBid                       1089784 non-null  float64\n",
      " 27  PlacementAsk                       1089784 non-null  float64\n",
      " 28  ActivationBid                      1089784 non-null  float64\n",
      " 29  ActivationAsk                      1089784 non-null  float64\n",
      " 30  MATCH_EXISTED_PRIOR_TO_PLACEMENT   1089784 non-null  object \n",
      " 31  MATCH_EXISTED_AT_PLACEMENT_TIME    1089784 non-null  object \n",
      " 32  MATCH_EXISTED_DURING_RANDOM_DELAY  1089784 non-null  object \n",
      " 33  PriceExpirationTime                1089784 non-null  object \n",
      " 34  MissReason                         1089784 non-null  object \n",
      " 35  USDEquivalentAmount                1089784 non-null  float64\n",
      " 36  USDConverationPrice                1089784 non-null  float64\n",
      " 37  OrderPlacementPosition             1089784 non-null  object \n",
      " 38  OrderActivationPosition            1089784 non-null  object \n",
      " 39  MissPriceDeltaPips                 1089784 non-null  float64\n",
      " 40  PlacementSpread                    1089700 non-null  float64\n",
      " 41  EndToEndLifetimeMs                 1089784 non-null  int64  \n",
      " 42  WorkingLifetimeMs                  1089784 non-null  int64  \n",
      " 43  WorkingLifetimeBucket              1089784 non-null  object \n",
      " 44  TimeToActivationMics               1089784 non-null  int64  \n",
      " 45  FutureMatch                        1089784 non-null  object \n",
      " 46  FutureMatchMs                      1089784 non-null  int64  \n",
      " 47  FutureMatchBucket                  1089784 non-null  object \n",
      " 48  PRE_PLACEMENT_BOOK_JOIN_STATUS     1089784 non-null  object \n",
      " 49  PRE_PLACEMENT_BOOK_JOIN_PRICE      1089784 non-null  float64\n",
      " 50  PRE_PLACEMENT_BOOK_JOIN_TIME       1089784 non-null  object \n",
      "dtypes: float64(12), int64(9), object(30)\n",
      "memory usage: 424.0+ MB\n"
     ]
    }
   ],
   "source": [
    "ad.info()"
   ]
  },
  {
   "cell_type": "code",
   "execution_count": 73,
   "metadata": {},
   "outputs": [],
   "source": [
    "pd.set_option('display.max_columns', 500)"
   ]
  },
  {
   "cell_type": "code",
   "execution_count": 88,
   "metadata": {},
   "outputs": [],
   "source": [
    "df.columns = names.columns"
   ]
  },
  {
   "cell_type": "code",
   "execution_count": 184,
   "metadata": {},
   "outputs": [
    {
     "data": {
      "text/plain": [
       "array(['JOIN_INSIDE', 'NO_JOIN'], dtype=object)"
      ]
     },
     "execution_count": 184,
     "metadata": {},
     "output_type": "execute_result"
    }
   ],
   "source": [
    "ad['PRE_PLACEMENT_BOOK_JOIN_STATUS'].unique()"
   ]
  },
  {
   "cell_type": "code",
   "execution_count": 171,
   "metadata": {},
   "outputs": [
    {
     "data": {
      "text/plain": [
       "36"
      ]
     },
     "execution_count": 171,
     "metadata": {},
     "output_type": "execute_result"
    }
   ],
   "source": [
    "len(df.columns)"
   ]
  },
  {
   "cell_type": "code",
   "execution_count": 100,
   "metadata": {},
   "outputs": [
    {
     "data": {
      "text/plain": [
       "numpy.int64"
      ]
     },
     "execution_count": 100,
     "metadata": {},
     "output_type": "execute_result"
    }
   ],
   "source": [
    "type(df.iloc[1]['ORDER_ID'])"
   ]
  },
  {
   "cell_type": "code",
   "execution_count": 96,
   "metadata": {
    "scrolled": false
   },
   "outputs": [],
   "source": [
    "combo = pd.merge(of,df,left_on= 'OrderId',right_on='ORDER_ID' )"
   ]
  },
  {
   "cell_type": "code",
   "execution_count": 103,
   "metadata": {
    "scrolled": true
   },
   "outputs": [
    {
     "data": {
      "text/plain": [
       "numpy.int64"
      ]
     },
     "execution_count": 103,
     "metadata": {},
     "output_type": "execute_result"
    }
   ],
   "source": [
    "type(of.iloc[1]['OrderId'])"
   ]
  },
  {
   "cell_type": "code",
   "execution_count": 106,
   "metadata": {},
   "outputs": [
    {
     "data": {
      "text/plain": [
       "721592"
      ]
     },
     "execution_count": 106,
     "metadata": {},
     "output_type": "execute_result"
    }
   ],
   "source": [
    "len(df['ORDER_ID'].unique())"
   ]
  },
  {
   "cell_type": "code",
   "execution_count": 111,
   "metadata": {},
   "outputs": [
    {
     "data": {
      "text/plain": [
       "4743"
      ]
     },
     "execution_count": 111,
     "metadata": {},
     "output_type": "execute_result"
    }
   ],
   "source": [
    "len(of['OrderId'].unique())"
   ]
  },
  {
   "cell_type": "code",
   "execution_count": 125,
   "metadata": {},
   "outputs": [],
   "source": [
    "import time\n",
    "from datetime import datetime"
   ]
  },
  {
   "cell_type": "code",
   "execution_count": 149,
   "metadata": {},
   "outputs": [
    {
     "ename": "SyntaxError",
     "evalue": "leading zeros in decimal integer literals are not permitted; use an 0o prefix for octal integers (<ipython-input-149-b3cb7a489b8f>, line 1)",
     "output_type": "error",
     "traceback": [
      "\u001b[1;36m  File \u001b[1;32m\"<ipython-input-149-b3cb7a489b8f>\"\u001b[1;36m, line \u001b[1;32m1\u001b[0m\n\u001b[1;33m    dt_obj = datetime.strptime(2020-05-31 23:49:00.593,'%Y-%m-%d %H:%M:%S.%f')\u001b[0m\n\u001b[1;37m                                     ^\u001b[0m\n\u001b[1;31mSyntaxError\u001b[0m\u001b[1;31m:\u001b[0m leading zeros in decimal integer literals are not permitted; use an 0o prefix for octal integers\n"
     ]
    }
   ],
   "source": [
    "dt_obj = datetime.strptime(2020-05-31 23:49:00.593,'%Y-%m-%d %H:%M:%S.%f')"
   ]
  },
  {
   "cell_type": "code",
   "execution_count": 130,
   "metadata": {},
   "outputs": [],
   "source": [
    "x=dt_obj.timestamp()*1000"
   ]
  },
  {
   "cell_type": "code",
   "execution_count": 151,
   "metadata": {
    "scrolled": true
   },
   "outputs": [],
   "source": [
    "df['TIME'] = df['TIME'].apply(lambda x: str(x))"
   ]
  },
  {
   "cell_type": "code",
   "execution_count": 159,
   "metadata": {},
   "outputs": [],
   "source": [
    "def change_time(x):\n",
    "    dt_obj = datetime.strptime(x,'%Y-%m-%d %H:%M:%S.%f')\n",
    "    return dt_obj.timestamp()*1000"
   ]
  },
  {
   "cell_type": "code",
   "execution_count": 165,
   "metadata": {},
   "outputs": [],
   "source": [
    "df['MATCH_PRICE_EXPIRY_TIME'] = df['MATCH_PRICE_EXPIRY_TIME'].apply(lambda x: str(x))"
   ]
  },
  {
   "cell_type": "code",
   "execution_count": 166,
   "metadata": {
    "scrolled": true
   },
   "outputs": [
    {
     "ename": "OSError",
     "evalue": "[Errno 22] Invalid argument",
     "output_type": "error",
     "traceback": [
      "\u001b[1;31m---------------------------------------------------------------------------\u001b[0m",
      "\u001b[1;31mOSError\u001b[0m                                   Traceback (most recent call last)",
      "\u001b[1;32m<ipython-input-166-f6efc9a126c6>\u001b[0m in \u001b[0;36m<module>\u001b[1;34m\u001b[0m\n\u001b[1;32m----> 1\u001b[1;33m \u001b[0mdf\u001b[0m\u001b[1;33m[\u001b[0m\u001b[1;34m'MATCH_PRICE_EXPIRY_TIME'\u001b[0m\u001b[1;33m]\u001b[0m \u001b[1;33m=\u001b[0m \u001b[0mdf\u001b[0m\u001b[1;33m[\u001b[0m\u001b[1;34m'MATCH_PRICE_EXPIRY_TIME'\u001b[0m\u001b[1;33m]\u001b[0m\u001b[1;33m.\u001b[0m\u001b[0mapply\u001b[0m\u001b[1;33m(\u001b[0m\u001b[1;32mlambda\u001b[0m \u001b[0mx\u001b[0m\u001b[1;33m:\u001b[0m \u001b[0mchange_time\u001b[0m\u001b[1;33m(\u001b[0m\u001b[0mx\u001b[0m\u001b[1;33m)\u001b[0m\u001b[1;33m)\u001b[0m\u001b[1;33m\u001b[0m\u001b[1;33m\u001b[0m\u001b[0m\n\u001b[0m",
      "\u001b[1;32m~\\Anaconda3\\lib\\site-packages\\pandas\\core\\series.py\u001b[0m in \u001b[0;36mapply\u001b[1;34m(self, func, convert_dtype, args, **kwds)\u001b[0m\n\u001b[0;32m   3846\u001b[0m             \u001b[1;32melse\u001b[0m\u001b[1;33m:\u001b[0m\u001b[1;33m\u001b[0m\u001b[1;33m\u001b[0m\u001b[0m\n\u001b[0;32m   3847\u001b[0m                 \u001b[0mvalues\u001b[0m \u001b[1;33m=\u001b[0m \u001b[0mself\u001b[0m\u001b[1;33m.\u001b[0m\u001b[0mastype\u001b[0m\u001b[1;33m(\u001b[0m\u001b[0mobject\u001b[0m\u001b[1;33m)\u001b[0m\u001b[1;33m.\u001b[0m\u001b[0mvalues\u001b[0m\u001b[1;33m\u001b[0m\u001b[1;33m\u001b[0m\u001b[0m\n\u001b[1;32m-> 3848\u001b[1;33m                 \u001b[0mmapped\u001b[0m \u001b[1;33m=\u001b[0m \u001b[0mlib\u001b[0m\u001b[1;33m.\u001b[0m\u001b[0mmap_infer\u001b[0m\u001b[1;33m(\u001b[0m\u001b[0mvalues\u001b[0m\u001b[1;33m,\u001b[0m \u001b[0mf\u001b[0m\u001b[1;33m,\u001b[0m \u001b[0mconvert\u001b[0m\u001b[1;33m=\u001b[0m\u001b[0mconvert_dtype\u001b[0m\u001b[1;33m)\u001b[0m\u001b[1;33m\u001b[0m\u001b[1;33m\u001b[0m\u001b[0m\n\u001b[0m\u001b[0;32m   3849\u001b[0m \u001b[1;33m\u001b[0m\u001b[0m\n\u001b[0;32m   3850\u001b[0m         \u001b[1;32mif\u001b[0m \u001b[0mlen\u001b[0m\u001b[1;33m(\u001b[0m\u001b[0mmapped\u001b[0m\u001b[1;33m)\u001b[0m \u001b[1;32mand\u001b[0m \u001b[0misinstance\u001b[0m\u001b[1;33m(\u001b[0m\u001b[0mmapped\u001b[0m\u001b[1;33m[\u001b[0m\u001b[1;36m0\u001b[0m\u001b[1;33m]\u001b[0m\u001b[1;33m,\u001b[0m \u001b[0mSeries\u001b[0m\u001b[1;33m)\u001b[0m\u001b[1;33m:\u001b[0m\u001b[1;33m\u001b[0m\u001b[1;33m\u001b[0m\u001b[0m\n",
      "\u001b[1;32mpandas\\_libs\\lib.pyx\u001b[0m in \u001b[0;36mpandas._libs.lib.map_infer\u001b[1;34m()\u001b[0m\n",
      "\u001b[1;32m<ipython-input-166-f6efc9a126c6>\u001b[0m in \u001b[0;36m<lambda>\u001b[1;34m(x)\u001b[0m\n\u001b[1;32m----> 1\u001b[1;33m \u001b[0mdf\u001b[0m\u001b[1;33m[\u001b[0m\u001b[1;34m'MATCH_PRICE_EXPIRY_TIME'\u001b[0m\u001b[1;33m]\u001b[0m \u001b[1;33m=\u001b[0m \u001b[0mdf\u001b[0m\u001b[1;33m[\u001b[0m\u001b[1;34m'MATCH_PRICE_EXPIRY_TIME'\u001b[0m\u001b[1;33m]\u001b[0m\u001b[1;33m.\u001b[0m\u001b[0mapply\u001b[0m\u001b[1;33m(\u001b[0m\u001b[1;32mlambda\u001b[0m \u001b[0mx\u001b[0m\u001b[1;33m:\u001b[0m \u001b[0mchange_time\u001b[0m\u001b[1;33m(\u001b[0m\u001b[0mx\u001b[0m\u001b[1;33m)\u001b[0m\u001b[1;33m)\u001b[0m\u001b[1;33m\u001b[0m\u001b[1;33m\u001b[0m\u001b[0m\n\u001b[0m",
      "\u001b[1;32m<ipython-input-159-57385a27ceb2>\u001b[0m in \u001b[0;36mchange_time\u001b[1;34m(x)\u001b[0m\n\u001b[0;32m      1\u001b[0m \u001b[1;32mdef\u001b[0m \u001b[0mchange_time\u001b[0m\u001b[1;33m(\u001b[0m\u001b[0mx\u001b[0m\u001b[1;33m)\u001b[0m\u001b[1;33m:\u001b[0m\u001b[1;33m\u001b[0m\u001b[1;33m\u001b[0m\u001b[0m\n\u001b[0;32m      2\u001b[0m     \u001b[0mdt_obj\u001b[0m \u001b[1;33m=\u001b[0m \u001b[0mdatetime\u001b[0m\u001b[1;33m.\u001b[0m\u001b[0mstrptime\u001b[0m\u001b[1;33m(\u001b[0m\u001b[0mx\u001b[0m\u001b[1;33m,\u001b[0m\u001b[1;34m'%Y-%m-%d %H:%M:%S.%f'\u001b[0m\u001b[1;33m)\u001b[0m\u001b[1;33m\u001b[0m\u001b[1;33m\u001b[0m\u001b[0m\n\u001b[1;32m----> 3\u001b[1;33m     \u001b[1;32mreturn\u001b[0m \u001b[0mdt_obj\u001b[0m\u001b[1;33m.\u001b[0m\u001b[0mtimestamp\u001b[0m\u001b[1;33m(\u001b[0m\u001b[1;33m)\u001b[0m\u001b[1;33m*\u001b[0m\u001b[1;36m1000\u001b[0m\u001b[1;33m\u001b[0m\u001b[1;33m\u001b[0m\u001b[0m\n\u001b[0m",
      "\u001b[1;31mOSError\u001b[0m: [Errno 22] Invalid argument"
     ]
    }
   ],
   "source": [
    "df['MATCH_PRICE_EXPIRY_TIME'] = df['MATCH_PRICE_EXPIRY_TIME'].apply(lambda x: change_time(x))"
   ]
  },
  {
   "cell_type": "code",
   "execution_count": 162,
   "metadata": {},
   "outputs": [
    {
     "data": {
      "text/plain": [
       "str"
      ]
     },
     "execution_count": 162,
     "metadata": {},
     "output_type": "execute_result"
    }
   ],
   "source": [
    "type(df['MATCH_PRICE_EXPIRY_TIME'].iloc[0])"
   ]
  },
  {
   "cell_type": "code",
   "execution_count": 154,
   "metadata": {},
   "outputs": [],
   "source": [
    "df['TIME'] = df['TIME'].apply(lambda x: change_time(x))"
   ]
  },
  {
   "cell_type": "code",
   "execution_count": 163,
   "metadata": {},
   "outputs": [],
   "source": [
    "df['PRE_PLACEMENT_BOOK_JOIN_TIME'] = df['PRE_PLACEMENT_BOOK_JOIN_TIME'].apply(lambda x: str(x))"
   ]
  },
  {
   "cell_type": "code",
   "execution_count": 164,
   "metadata": {},
   "outputs": [],
   "source": [
    "df['PRE_PLACEMENT_BOOK_JOIN_TIME'] = df['PRE_PLACEMENT_BOOK_JOIN_TIME'].apply(lambda x: change_time(x))"
   ]
  },
  {
   "cell_type": "code",
   "execution_count": 156,
   "metadata": {},
   "outputs": [
    {
     "data": {
      "text/plain": [
       "1590983340593.0"
      ]
     },
     "execution_count": 156,
     "metadata": {},
     "output_type": "execute_result"
    }
   ],
   "source": [
    "df['TIME'].iloc[0]"
   ]
  },
  {
   "cell_type": "code",
   "execution_count": null,
   "metadata": {},
   "outputs": [],
   "source": [
    "2020-05-31 23:49:00.593"
   ]
  },
  {
   "cell_type": "code",
   "execution_count": 123,
   "metadata": {},
   "outputs": [
    {
     "data": {
      "text/html": [
       "<div>\n",
       "<style scoped>\n",
       "    .dataframe tbody tr th:only-of-type {\n",
       "        vertical-align: middle;\n",
       "    }\n",
       "\n",
       "    .dataframe tbody tr th {\n",
       "        vertical-align: top;\n",
       "    }\n",
       "\n",
       "    .dataframe thead th {\n",
       "        text-align: right;\n",
       "    }\n",
       "</style>\n",
       "<table border=\"1\" class=\"dataframe\">\n",
       "  <thead>\n",
       "    <tr style=\"text-align: right;\">\n",
       "      <th></th>\n",
       "      <th>id</th>\n",
       "      <th>TIME</th>\n",
       "      <th>SYMBOL</th>\n",
       "      <th>ORD_TYPE</th>\n",
       "      <th>TIF</th>\n",
       "      <th>ORDER_ID</th>\n",
       "      <th>ORDER_ACTION</th>\n",
       "      <th>FILL_STATUS</th>\n",
       "      <th>FILL_SUB_STATUS</th>\n",
       "      <th>USER_ID</th>\n",
       "      <th>FIRM_ID</th>\n",
       "      <th>ORDER_PRICE</th>\n",
       "      <th>AMOUNT</th>\n",
       "      <th>AMOUNT_DONE</th>\n",
       "      <th>ORDER_TIME</th>\n",
       "      <th>ACTIVATION_TIME</th>\n",
       "      <th>PLACEMENT_TOB_BID</th>\n",
       "      <th>PLACEMENT_TOB_ASK</th>\n",
       "      <th>ACTIVATION_TOB_BID</th>\n",
       "      <th>ACTIVATION_TOB_ASK</th>\n",
       "      <th>MATCH_EXISTED_PRIOR_TO_PLACEMENT</th>\n",
       "      <th>MATCH_EXISTED_AT_PLACEMENT_TIME</th>\n",
       "      <th>MATCH_EXISTED_DURING_RANDOM_DELAY</th>\n",
       "      <th>MATCH_PRICE_EXPIRED_DURING_RANDOM_DELAY</th>\n",
       "      <th>MATCH_PRICE_EXPIRY_TIME</th>\n",
       "      <th>ORDER_CLASSIFICATION</th>\n",
       "      <th>ACTIVATION_TIMESTAMP</th>\n",
       "      <th>ORDER_ENTRY_TIMESTAMP</th>\n",
       "      <th>USD_EQUIV_AMOUNT</th>\n",
       "      <th>USD_CONV_RATE</th>\n",
       "      <th>MATCH_EXISTS_AFTER_ORDER_CANCEL</th>\n",
       "      <th>FUTURE_MATCHING_PRICE</th>\n",
       "      <th>FUTURE_MATCHING_TS_CUREX</th>\n",
       "      <th>PRE_PLACEMENT_BOOK_JOIN_STATUS</th>\n",
       "      <th>PRE_PLACEMENT_BOOK_JOIN_PRICE</th>\n",
       "      <th>PRE_PLACEMENT_BOOK_JOIN_TIME</th>\n",
       "    </tr>\n",
       "  </thead>\n",
       "  <tbody>\n",
       "    <tr>\n",
       "      <th>0</th>\n",
       "      <td>613321</td>\n",
       "      <td>2020-05-31 23:49:00.593</td>\n",
       "      <td>EURUSD</td>\n",
       "      <td>LIMIT</td>\n",
       "      <td>GFD</td>\n",
       "      <td>2006010000472000003</td>\n",
       "      <td>SELL</td>\n",
       "      <td>FILLED</td>\n",
       "      <td>FILLED</td>\n",
       "      <td>811</td>\n",
       "      <td>7</td>\n",
       "      <td>1.11180</td>\n",
       "      <td>500000.0</td>\n",
       "      <td>500000.0</td>\n",
       "      <td>1590968940590</td>\n",
       "      <td>1590968940591</td>\n",
       "      <td>1.11181</td>\n",
       "      <td>1.11184</td>\n",
       "      <td>1.11179</td>\n",
       "      <td>1.11184</td>\n",
       "      <td>YES</td>\n",
       "      <td>YES</td>\n",
       "      <td>YES</td>\n",
       "      <td>NO</td>\n",
       "      <td>2020-05-31 23:49:00.593</td>\n",
       "      <td>FILLED</td>\n",
       "      <td>9098956659842636727</td>\n",
       "      <td>9098956659842518648</td>\n",
       "      <td>555910.0</td>\n",
       "      <td>1.111820</td>\n",
       "      <td>YES</td>\n",
       "      <td>1</td>\n",
       "      <td>9098956659912597714</td>\n",
       "      <td>JOIN_INSIDE</td>\n",
       "      <td>1.11184</td>\n",
       "      <td>2020-05-31 23:49:00.587</td>\n",
       "    </tr>\n",
       "    <tr>\n",
       "      <th>1</th>\n",
       "      <td>613314</td>\n",
       "      <td>2020-06-01 00:10:06.637</td>\n",
       "      <td>AUDUSD</td>\n",
       "      <td>VWAP</td>\n",
       "      <td>IOC</td>\n",
       "      <td>2006010000336000001</td>\n",
       "      <td>BUY</td>\n",
       "      <td>MISSED</td>\n",
       "      <td>MISSED</td>\n",
       "      <td>233</td>\n",
       "      <td>37</td>\n",
       "      <td>0.66738</td>\n",
       "      <td>500000.0</td>\n",
       "      <td>0.0</td>\n",
       "      <td>1590970206286</td>\n",
       "      <td>1590970206335</td>\n",
       "      <td>0.66736</td>\n",
       "      <td>0.66739</td>\n",
       "      <td>0.66734</td>\n",
       "      <td>0.66739</td>\n",
       "      <td>YES</td>\n",
       "      <td>NO</td>\n",
       "      <td>NO</td>\n",
       "      <td>NO</td>\n",
       "      <td>2020-06-01 00:10:06.280</td>\n",
       "      <td>PRICE EXPIRED BEFORE ORDER PLACEMENT</td>\n",
       "      <td>9098968931137673747</td>\n",
       "      <td>9098968931134563064</td>\n",
       "      <td>333687.5</td>\n",
       "      <td>0.667375</td>\n",
       "      <td>YES</td>\n",
       "      <td>0</td>\n",
       "      <td>9098968931190872148</td>\n",
       "      <td>JOIN_INSIDE</td>\n",
       "      <td>0.66736</td>\n",
       "      <td>2020-06-01 00:10:06.287</td>\n",
       "    </tr>\n",
       "    <tr>\n",
       "      <th>2</th>\n",
       "      <td>613315</td>\n",
       "      <td>2020-06-01 00:10:06.637</td>\n",
       "      <td>AUDUSD</td>\n",
       "      <td>LIMIT</td>\n",
       "      <td>GFD</td>\n",
       "      <td>2006010000500000001</td>\n",
       "      <td>BUY</td>\n",
       "      <td>MISSED</td>\n",
       "      <td>MISSED</td>\n",
       "      <td>233</td>\n",
       "      <td>37</td>\n",
       "      <td>0.66738</td>\n",
       "      <td>500000.0</td>\n",
       "      <td>0.0</td>\n",
       "      <td>1590970206335</td>\n",
       "      <td>1590970206337</td>\n",
       "      <td>0.66734</td>\n",
       "      <td>0.66739</td>\n",
       "      <td>0.66738</td>\n",
       "      <td>0.66739</td>\n",
       "      <td>YES</td>\n",
       "      <td>NO</td>\n",
       "      <td>NO</td>\n",
       "      <td>NO</td>\n",
       "      <td>2020-06-01 00:10:06.280</td>\n",
       "      <td>PRICE EXPIRED BEFORE ORDER PLACEMENT</td>\n",
       "      <td>9098968931137785993</td>\n",
       "      <td>9098968931137681768</td>\n",
       "      <td>333682.5</td>\n",
       "      <td>0.667365</td>\n",
       "      <td>YES</td>\n",
       "      <td>0</td>\n",
       "      <td>9098968931190872148</td>\n",
       "      <td>JOIN_INSIDE</td>\n",
       "      <td>0.66734</td>\n",
       "      <td>2020-06-01 00:10:06.333</td>\n",
       "    </tr>\n",
       "    <tr>\n",
       "      <th>3</th>\n",
       "      <td>613738</td>\n",
       "      <td>2020-06-01 00:18:05.397</td>\n",
       "      <td>USDJPY</td>\n",
       "      <td>LIMIT</td>\n",
       "      <td>DAY</td>\n",
       "      <td>2006010000412000001</td>\n",
       "      <td>BUY</td>\n",
       "      <td>FILLED</td>\n",
       "      <td>FILLED</td>\n",
       "      <td>539</td>\n",
       "      <td>8</td>\n",
       "      <td>107.83800</td>\n",
       "      <td>500000.0</td>\n",
       "      <td>500000.0</td>\n",
       "      <td>1590970679942</td>\n",
       "      <td>1590970679963</td>\n",
       "      <td>107.83500</td>\n",
       "      <td>107.84000</td>\n",
       "      <td>107.83500</td>\n",
       "      <td>107.84000</td>\n",
       "      <td>YES</td>\n",
       "      <td>NO</td>\n",
       "      <td>NO</td>\n",
       "      <td>NO</td>\n",
       "      <td>2020-06-01 00:18:05.397</td>\n",
       "      <td>FILLED</td>\n",
       "      <td>9098968960739403181</td>\n",
       "      <td>9098968960738063064</td>\n",
       "      <td>500000.0</td>\n",
       "      <td>1.000000</td>\n",
       "      <td>YES</td>\n",
       "      <td>107</td>\n",
       "      <td>9098968961340922538</td>\n",
       "      <td>JOIN_INSIDE</td>\n",
       "      <td>107.83500</td>\n",
       "      <td>2020-06-01 00:17:59.907</td>\n",
       "    </tr>\n",
       "    <tr>\n",
       "      <th>4</th>\n",
       "      <td>613316</td>\n",
       "      <td>2020-06-01 00:18:27.050</td>\n",
       "      <td>AUDUSD</td>\n",
       "      <td>VWAP</td>\n",
       "      <td>IOC</td>\n",
       "      <td>2006010000336000003</td>\n",
       "      <td>BUY</td>\n",
       "      <td>MISSED</td>\n",
       "      <td>MISSED</td>\n",
       "      <td>233</td>\n",
       "      <td>37</td>\n",
       "      <td>0.66831</td>\n",
       "      <td>500000.0</td>\n",
       "      <td>0.0</td>\n",
       "      <td>1590970706644</td>\n",
       "      <td>1590970706748</td>\n",
       "      <td>0.66827</td>\n",
       "      <td>0.66829</td>\n",
       "      <td>0.66839</td>\n",
       "      <td>0.66846</td>\n",
       "      <td>YES</td>\n",
       "      <td>YES</td>\n",
       "      <td>YES</td>\n",
       "      <td>YES</td>\n",
       "      <td>2020-06-01 00:18:26.657</td>\n",
       "      <td>PRICE EXPIRED IN RANDOM DELAY</td>\n",
       "      <td>9098968962413482486</td>\n",
       "      <td>9098968962406938064</td>\n",
       "      <td>334137.5</td>\n",
       "      <td>0.668275</td>\n",
       "      <td>NO</td>\n",
       "      <td>-1</td>\n",
       "      <td>0</td>\n",
       "      <td>JOIN_INSIDE</td>\n",
       "      <td>0.66827</td>\n",
       "      <td>2020-06-01 00:18:26.643</td>\n",
       "    </tr>\n",
       "  </tbody>\n",
       "</table>\n",
       "</div>"
      ],
      "text/plain": [
       "       id                     TIME  SYMBOL ORD_TYPE  TIF             ORDER_ID  \\\n",
       "0  613321  2020-05-31 23:49:00.593  EURUSD    LIMIT  GFD  2006010000472000003   \n",
       "1  613314  2020-06-01 00:10:06.637  AUDUSD     VWAP  IOC  2006010000336000001   \n",
       "2  613315  2020-06-01 00:10:06.637  AUDUSD    LIMIT  GFD  2006010000500000001   \n",
       "3  613738  2020-06-01 00:18:05.397  USDJPY    LIMIT  DAY  2006010000412000001   \n",
       "4  613316  2020-06-01 00:18:27.050  AUDUSD     VWAP  IOC  2006010000336000003   \n",
       "\n",
       "  ORDER_ACTION FILL_STATUS FILL_SUB_STATUS  USER_ID  FIRM_ID  ORDER_PRICE  \\\n",
       "0         SELL      FILLED          FILLED      811        7      1.11180   \n",
       "1          BUY      MISSED          MISSED      233       37      0.66738   \n",
       "2          BUY      MISSED          MISSED      233       37      0.66738   \n",
       "3          BUY      FILLED          FILLED      539        8    107.83800   \n",
       "4          BUY      MISSED          MISSED      233       37      0.66831   \n",
       "\n",
       "     AMOUNT  AMOUNT_DONE     ORDER_TIME  ACTIVATION_TIME  PLACEMENT_TOB_BID  \\\n",
       "0  500000.0     500000.0  1590968940590    1590968940591            1.11181   \n",
       "1  500000.0          0.0  1590970206286    1590970206335            0.66736   \n",
       "2  500000.0          0.0  1590970206335    1590970206337            0.66734   \n",
       "3  500000.0     500000.0  1590970679942    1590970679963          107.83500   \n",
       "4  500000.0          0.0  1590970706644    1590970706748            0.66827   \n",
       "\n",
       "   PLACEMENT_TOB_ASK  ACTIVATION_TOB_BID  ACTIVATION_TOB_ASK  \\\n",
       "0            1.11184             1.11179             1.11184   \n",
       "1            0.66739             0.66734             0.66739   \n",
       "2            0.66739             0.66738             0.66739   \n",
       "3          107.84000           107.83500           107.84000   \n",
       "4            0.66829             0.66839             0.66846   \n",
       "\n",
       "  MATCH_EXISTED_PRIOR_TO_PLACEMENT MATCH_EXISTED_AT_PLACEMENT_TIME  \\\n",
       "0                              YES                             YES   \n",
       "1                              YES                              NO   \n",
       "2                              YES                              NO   \n",
       "3                              YES                              NO   \n",
       "4                              YES                             YES   \n",
       "\n",
       "  MATCH_EXISTED_DURING_RANDOM_DELAY MATCH_PRICE_EXPIRED_DURING_RANDOM_DELAY  \\\n",
       "0                               YES                                      NO   \n",
       "1                                NO                                      NO   \n",
       "2                                NO                                      NO   \n",
       "3                                NO                                      NO   \n",
       "4                               YES                                     YES   \n",
       "\n",
       "   MATCH_PRICE_EXPIRY_TIME                  ORDER_CLASSIFICATION  \\\n",
       "0  2020-05-31 23:49:00.593                                FILLED   \n",
       "1  2020-06-01 00:10:06.280  PRICE EXPIRED BEFORE ORDER PLACEMENT   \n",
       "2  2020-06-01 00:10:06.280  PRICE EXPIRED BEFORE ORDER PLACEMENT   \n",
       "3  2020-06-01 00:18:05.397                                FILLED   \n",
       "4  2020-06-01 00:18:26.657         PRICE EXPIRED IN RANDOM DELAY   \n",
       "\n",
       "   ACTIVATION_TIMESTAMP  ORDER_ENTRY_TIMESTAMP  USD_EQUIV_AMOUNT  \\\n",
       "0   9098956659842636727    9098956659842518648          555910.0   \n",
       "1   9098968931137673747    9098968931134563064          333687.5   \n",
       "2   9098968931137785993    9098968931137681768          333682.5   \n",
       "3   9098968960739403181    9098968960738063064          500000.0   \n",
       "4   9098968962413482486    9098968962406938064          334137.5   \n",
       "\n",
       "   USD_CONV_RATE MATCH_EXISTS_AFTER_ORDER_CANCEL  FUTURE_MATCHING_PRICE  \\\n",
       "0       1.111820                             YES                      1   \n",
       "1       0.667375                             YES                      0   \n",
       "2       0.667365                             YES                      0   \n",
       "3       1.000000                             YES                    107   \n",
       "4       0.668275                              NO                     -1   \n",
       "\n",
       "   FUTURE_MATCHING_TS_CUREX PRE_PLACEMENT_BOOK_JOIN_STATUS  \\\n",
       "0       9098956659912597714                    JOIN_INSIDE   \n",
       "1       9098968931190872148                    JOIN_INSIDE   \n",
       "2       9098968931190872148                    JOIN_INSIDE   \n",
       "3       9098968961340922538                    JOIN_INSIDE   \n",
       "4                         0                    JOIN_INSIDE   \n",
       "\n",
       "   PRE_PLACEMENT_BOOK_JOIN_PRICE PRE_PLACEMENT_BOOK_JOIN_TIME  \n",
       "0                        1.11184      2020-05-31 23:49:00.587  \n",
       "1                        0.66736      2020-06-01 00:10:06.287  \n",
       "2                        0.66734      2020-06-01 00:10:06.333  \n",
       "3                      107.83500      2020-06-01 00:17:59.907  \n",
       "4                        0.66827      2020-06-01 00:18:26.643  "
      ]
     },
     "execution_count": 123,
     "metadata": {},
     "output_type": "execute_result"
    }
   ],
   "source": [
    "df.head()"
   ]
  },
  {
   "cell_type": "code",
   "execution_count": 122,
   "metadata": {
    "scrolled": true
   },
   "outputs": [
    {
     "name": "stdout",
     "output_type": "stream",
     "text": [
      "<class 'pandas.core.frame.DataFrame'>\n",
      "RangeIndex: 721592 entries, 0 to 721591\n",
      "Data columns (total 36 columns):\n",
      " #   Column                                   Non-Null Count   Dtype  \n",
      "---  ------                                   --------------   -----  \n",
      " 0   id                                       721592 non-null  int64  \n",
      " 1   TIME                                     721592 non-null  object \n",
      " 2   SYMBOL                                   721592 non-null  object \n",
      " 3   ORD_TYPE                                 721592 non-null  object \n",
      " 4   TIF                                      721592 non-null  object \n",
      " 5   ORDER_ID                                 721592 non-null  int64  \n",
      " 6   ORDER_ACTION                             721592 non-null  object \n",
      " 7   FILL_STATUS                              721592 non-null  object \n",
      " 8   FILL_SUB_STATUS                          721592 non-null  object \n",
      " 9   USER_ID                                  721592 non-null  int64  \n",
      " 10  FIRM_ID                                  721592 non-null  int64  \n",
      " 11  ORDER_PRICE                              721592 non-null  float64\n",
      " 12  AMOUNT                                   721592 non-null  float64\n",
      " 13  AMOUNT_DONE                              721592 non-null  float64\n",
      " 14  ORDER_TIME                               721592 non-null  int64  \n",
      " 15  ACTIVATION_TIME                          721592 non-null  int64  \n",
      " 16  PLACEMENT_TOB_BID                        721592 non-null  float64\n",
      " 17  PLACEMENT_TOB_ASK                        721592 non-null  float64\n",
      " 18  ACTIVATION_TOB_BID                       721592 non-null  float64\n",
      " 19  ACTIVATION_TOB_ASK                       721592 non-null  float64\n",
      " 20  MATCH_EXISTED_PRIOR_TO_PLACEMENT         721592 non-null  object \n",
      " 21  MATCH_EXISTED_AT_PLACEMENT_TIME          721592 non-null  object \n",
      " 22  MATCH_EXISTED_DURING_RANDOM_DELAY        721592 non-null  object \n",
      " 23  MATCH_PRICE_EXPIRED_DURING_RANDOM_DELAY  721592 non-null  object \n",
      " 24  MATCH_PRICE_EXPIRY_TIME                  721592 non-null  object \n",
      " 25  ORDER_CLASSIFICATION                     721592 non-null  object \n",
      " 26  ACTIVATION_TIMESTAMP                     721592 non-null  int64  \n",
      " 27  ORDER_ENTRY_TIMESTAMP                    721592 non-null  int64  \n",
      " 28  USD_EQUIV_AMOUNT                         721592 non-null  float64\n",
      " 29  USD_CONV_RATE                            721592 non-null  float64\n",
      " 30  MATCH_EXISTS_AFTER_ORDER_CANCEL          721592 non-null  object \n",
      " 31  FUTURE_MATCHING_PRICE                    721592 non-null  int64  \n",
      " 32  FUTURE_MATCHING_TS_CUREX                 721592 non-null  int64  \n",
      " 33  PRE_PLACEMENT_BOOK_JOIN_STATUS           721592 non-null  object \n",
      " 34  PRE_PLACEMENT_BOOK_JOIN_PRICE            721592 non-null  float64\n",
      " 35  PRE_PLACEMENT_BOOK_JOIN_TIME             721592 non-null  object \n",
      "dtypes: float64(10), int64(10), object(16)\n",
      "memory usage: 198.2+ MB\n"
     ]
    }
   ],
   "source": [
    "df.info()"
   ]
  },
  {
   "cell_type": "code",
   "execution_count": 121,
   "metadata": {
    "scrolled": true
   },
   "outputs": [
    {
     "ename": "KeyError",
     "evalue": "'TimeToActivationMics'",
     "output_type": "error",
     "traceback": [
      "\u001b[1;31m---------------------------------------------------------------------------\u001b[0m",
      "\u001b[1;31mKeyError\u001b[0m                                  Traceback (most recent call last)",
      "\u001b[1;32m<ipython-input-121-00f50ce40625>\u001b[0m in \u001b[0;36m<module>\u001b[1;34m\u001b[0m\n\u001b[1;32m----> 1\u001b[1;33m \u001b[0mdf\u001b[0m\u001b[1;33m[\u001b[0m\u001b[0mdf\u001b[0m\u001b[1;33m[\u001b[0m\u001b[1;34m'FILL_STATUS'\u001b[0m\u001b[1;33m]\u001b[0m\u001b[1;33m==\u001b[0m\u001b[1;34m'FILLED'\u001b[0m\u001b[1;33m]\u001b[0m\u001b[1;33m.\u001b[0m\u001b[0mgroupby\u001b[0m\u001b[1;33m(\u001b[0m\u001b[1;34m'TimeToActivationMics'\u001b[0m\u001b[1;33m)\u001b[0m\u001b[1;33m.\u001b[0m\u001b[0mmean\u001b[0m\u001b[1;33m(\u001b[0m\u001b[1;33m)\u001b[0m\u001b[1;33m\u001b[0m\u001b[1;33m\u001b[0m\u001b[0m\n\u001b[0m",
      "\u001b[1;32m~\\Anaconda3\\lib\\site-packages\\pandas\\core\\frame.py\u001b[0m in \u001b[0;36mgroupby\u001b[1;34m(self, by, axis, level, as_index, sort, group_keys, squeeze, observed)\u001b[0m\n\u001b[0;32m   5799\u001b[0m         \u001b[0maxis\u001b[0m \u001b[1;33m=\u001b[0m \u001b[0mself\u001b[0m\u001b[1;33m.\u001b[0m\u001b[0m_get_axis_number\u001b[0m\u001b[1;33m(\u001b[0m\u001b[0maxis\u001b[0m\u001b[1;33m)\u001b[0m\u001b[1;33m\u001b[0m\u001b[1;33m\u001b[0m\u001b[0m\n\u001b[0;32m   5800\u001b[0m \u001b[1;33m\u001b[0m\u001b[0m\n\u001b[1;32m-> 5801\u001b[1;33m         return groupby_generic.DataFrameGroupBy(\n\u001b[0m\u001b[0;32m   5802\u001b[0m             \u001b[0mobj\u001b[0m\u001b[1;33m=\u001b[0m\u001b[0mself\u001b[0m\u001b[1;33m,\u001b[0m\u001b[1;33m\u001b[0m\u001b[1;33m\u001b[0m\u001b[0m\n\u001b[0;32m   5803\u001b[0m             \u001b[0mkeys\u001b[0m\u001b[1;33m=\u001b[0m\u001b[0mby\u001b[0m\u001b[1;33m,\u001b[0m\u001b[1;33m\u001b[0m\u001b[1;33m\u001b[0m\u001b[0m\n",
      "\u001b[1;32m~\\Anaconda3\\lib\\site-packages\\pandas\\core\\groupby\\groupby.py\u001b[0m in \u001b[0;36m__init__\u001b[1;34m(self, obj, keys, axis, level, grouper, exclusions, selection, as_index, sort, group_keys, squeeze, observed, mutated)\u001b[0m\n\u001b[0;32m    401\u001b[0m             \u001b[1;32mfrom\u001b[0m \u001b[0mpandas\u001b[0m\u001b[1;33m.\u001b[0m\u001b[0mcore\u001b[0m\u001b[1;33m.\u001b[0m\u001b[0mgroupby\u001b[0m\u001b[1;33m.\u001b[0m\u001b[0mgrouper\u001b[0m \u001b[1;32mimport\u001b[0m \u001b[0mget_grouper\u001b[0m\u001b[1;33m\u001b[0m\u001b[1;33m\u001b[0m\u001b[0m\n\u001b[0;32m    402\u001b[0m \u001b[1;33m\u001b[0m\u001b[0m\n\u001b[1;32m--> 403\u001b[1;33m             grouper, exclusions, obj = get_grouper(\n\u001b[0m\u001b[0;32m    404\u001b[0m                 \u001b[0mobj\u001b[0m\u001b[1;33m,\u001b[0m\u001b[1;33m\u001b[0m\u001b[1;33m\u001b[0m\u001b[0m\n\u001b[0;32m    405\u001b[0m                 \u001b[0mkeys\u001b[0m\u001b[1;33m,\u001b[0m\u001b[1;33m\u001b[0m\u001b[1;33m\u001b[0m\u001b[0m\n",
      "\u001b[1;32m~\\Anaconda3\\lib\\site-packages\\pandas\\core\\groupby\\grouper.py\u001b[0m in \u001b[0;36mget_grouper\u001b[1;34m(obj, key, axis, level, sort, observed, mutated, validate)\u001b[0m\n\u001b[0;32m    598\u001b[0m                 \u001b[0min_axis\u001b[0m\u001b[1;33m,\u001b[0m \u001b[0mname\u001b[0m\u001b[1;33m,\u001b[0m \u001b[0mlevel\u001b[0m\u001b[1;33m,\u001b[0m \u001b[0mgpr\u001b[0m \u001b[1;33m=\u001b[0m \u001b[1;32mFalse\u001b[0m\u001b[1;33m,\u001b[0m \u001b[1;32mNone\u001b[0m\u001b[1;33m,\u001b[0m \u001b[0mgpr\u001b[0m\u001b[1;33m,\u001b[0m \u001b[1;32mNone\u001b[0m\u001b[1;33m\u001b[0m\u001b[1;33m\u001b[0m\u001b[0m\n\u001b[0;32m    599\u001b[0m             \u001b[1;32melse\u001b[0m\u001b[1;33m:\u001b[0m\u001b[1;33m\u001b[0m\u001b[1;33m\u001b[0m\u001b[0m\n\u001b[1;32m--> 600\u001b[1;33m                 \u001b[1;32mraise\u001b[0m \u001b[0mKeyError\u001b[0m\u001b[1;33m(\u001b[0m\u001b[0mgpr\u001b[0m\u001b[1;33m)\u001b[0m\u001b[1;33m\u001b[0m\u001b[1;33m\u001b[0m\u001b[0m\n\u001b[0m\u001b[0;32m    601\u001b[0m         \u001b[1;32melif\u001b[0m \u001b[0misinstance\u001b[0m\u001b[1;33m(\u001b[0m\u001b[0mgpr\u001b[0m\u001b[1;33m,\u001b[0m \u001b[0mGrouper\u001b[0m\u001b[1;33m)\u001b[0m \u001b[1;32mand\u001b[0m \u001b[0mgpr\u001b[0m\u001b[1;33m.\u001b[0m\u001b[0mkey\u001b[0m \u001b[1;32mis\u001b[0m \u001b[1;32mnot\u001b[0m \u001b[1;32mNone\u001b[0m\u001b[1;33m:\u001b[0m\u001b[1;33m\u001b[0m\u001b[1;33m\u001b[0m\u001b[0m\n\u001b[0;32m    602\u001b[0m             \u001b[1;31m# Add key to exclusions\u001b[0m\u001b[1;33m\u001b[0m\u001b[1;33m\u001b[0m\u001b[1;33m\u001b[0m\u001b[0m\n",
      "\u001b[1;31mKeyError\u001b[0m: 'TimeToActivationMics'"
     ]
    }
   ],
   "source": [
    "df[df['FILL_STATUS']=='FILLED'].groupby('TimeToActivationMics').mean()"
   ]
  },
  {
   "cell_type": "code",
   "execution_count": 119,
   "metadata": {},
   "outputs": [
    {
     "data": {
      "text/html": [
       "<div>\n",
       "<style scoped>\n",
       "    .dataframe tbody tr th:only-of-type {\n",
       "        vertical-align: middle;\n",
       "    }\n",
       "\n",
       "    .dataframe tbody tr th {\n",
       "        vertical-align: top;\n",
       "    }\n",
       "\n",
       "    .dataframe thead th {\n",
       "        text-align: right;\n",
       "    }\n",
       "</style>\n",
       "<table border=\"1\" class=\"dataframe\">\n",
       "  <thead>\n",
       "    <tr style=\"text-align: right;\">\n",
       "      <th></th>\n",
       "      <th>id</th>\n",
       "      <th>TIME</th>\n",
       "      <th>SYMBOL</th>\n",
       "      <th>ORD_TYPE</th>\n",
       "      <th>TIF</th>\n",
       "      <th>ORDER_ID</th>\n",
       "      <th>ORDER_ACTION</th>\n",
       "      <th>FILL_STATUS</th>\n",
       "      <th>FILL_SUB_STATUS</th>\n",
       "      <th>USER_ID</th>\n",
       "      <th>FIRM_ID</th>\n",
       "      <th>ORDER_PRICE</th>\n",
       "      <th>AMOUNT</th>\n",
       "      <th>AMOUNT_DONE</th>\n",
       "      <th>ORDER_TIME</th>\n",
       "      <th>ACTIVATION_TIME</th>\n",
       "      <th>PLACEMENT_TOB_BID</th>\n",
       "      <th>PLACEMENT_TOB_ASK</th>\n",
       "      <th>ACTIVATION_TOB_BID</th>\n",
       "      <th>ACTIVATION_TOB_ASK</th>\n",
       "      <th>MATCH_EXISTED_PRIOR_TO_PLACEMENT</th>\n",
       "      <th>MATCH_EXISTED_AT_PLACEMENT_TIME</th>\n",
       "      <th>MATCH_EXISTED_DURING_RANDOM_DELAY</th>\n",
       "      <th>MATCH_PRICE_EXPIRED_DURING_RANDOM_DELAY</th>\n",
       "      <th>MATCH_PRICE_EXPIRY_TIME</th>\n",
       "      <th>ORDER_CLASSIFICATION</th>\n",
       "      <th>ACTIVATION_TIMESTAMP</th>\n",
       "      <th>ORDER_ENTRY_TIMESTAMP</th>\n",
       "      <th>USD_EQUIV_AMOUNT</th>\n",
       "      <th>USD_CONV_RATE</th>\n",
       "      <th>MATCH_EXISTS_AFTER_ORDER_CANCEL</th>\n",
       "      <th>FUTURE_MATCHING_PRICE</th>\n",
       "      <th>FUTURE_MATCHING_TS_CUREX</th>\n",
       "      <th>PRE_PLACEMENT_BOOK_JOIN_STATUS</th>\n",
       "      <th>PRE_PLACEMENT_BOOK_JOIN_PRICE</th>\n",
       "      <th>PRE_PLACEMENT_BOOK_JOIN_TIME</th>\n",
       "    </tr>\n",
       "  </thead>\n",
       "  <tbody>\n",
       "    <tr>\n",
       "      <th>0</th>\n",
       "      <td>613321</td>\n",
       "      <td>2020-05-31 23:49:00.593</td>\n",
       "      <td>EURUSD</td>\n",
       "      <td>LIMIT</td>\n",
       "      <td>GFD</td>\n",
       "      <td>2006010000472000003</td>\n",
       "      <td>SELL</td>\n",
       "      <td>FILLED</td>\n",
       "      <td>FILLED</td>\n",
       "      <td>811</td>\n",
       "      <td>7</td>\n",
       "      <td>1.11180</td>\n",
       "      <td>500000.0</td>\n",
       "      <td>500000.0</td>\n",
       "      <td>1590968940590</td>\n",
       "      <td>1590968940591</td>\n",
       "      <td>1.11181</td>\n",
       "      <td>1.11184</td>\n",
       "      <td>1.11179</td>\n",
       "      <td>1.11184</td>\n",
       "      <td>YES</td>\n",
       "      <td>YES</td>\n",
       "      <td>YES</td>\n",
       "      <td>NO</td>\n",
       "      <td>2020-05-31 23:49:00.593</td>\n",
       "      <td>FILLED</td>\n",
       "      <td>9098956659842636727</td>\n",
       "      <td>9098956659842518648</td>\n",
       "      <td>555910.0</td>\n",
       "      <td>1.111820</td>\n",
       "      <td>YES</td>\n",
       "      <td>1</td>\n",
       "      <td>9098956659912597714</td>\n",
       "      <td>JOIN_INSIDE</td>\n",
       "      <td>1.11184</td>\n",
       "      <td>2020-05-31 23:49:00.587</td>\n",
       "    </tr>\n",
       "    <tr>\n",
       "      <th>1</th>\n",
       "      <td>613314</td>\n",
       "      <td>2020-06-01 00:10:06.637</td>\n",
       "      <td>AUDUSD</td>\n",
       "      <td>VWAP</td>\n",
       "      <td>IOC</td>\n",
       "      <td>2006010000336000001</td>\n",
       "      <td>BUY</td>\n",
       "      <td>MISSED</td>\n",
       "      <td>MISSED</td>\n",
       "      <td>233</td>\n",
       "      <td>37</td>\n",
       "      <td>0.66738</td>\n",
       "      <td>500000.0</td>\n",
       "      <td>0.0</td>\n",
       "      <td>1590970206286</td>\n",
       "      <td>1590970206335</td>\n",
       "      <td>0.66736</td>\n",
       "      <td>0.66739</td>\n",
       "      <td>0.66734</td>\n",
       "      <td>0.66739</td>\n",
       "      <td>YES</td>\n",
       "      <td>NO</td>\n",
       "      <td>NO</td>\n",
       "      <td>NO</td>\n",
       "      <td>2020-06-01 00:10:06.280</td>\n",
       "      <td>PRICE EXPIRED BEFORE ORDER PLACEMENT</td>\n",
       "      <td>9098968931137673747</td>\n",
       "      <td>9098968931134563064</td>\n",
       "      <td>333687.5</td>\n",
       "      <td>0.667375</td>\n",
       "      <td>YES</td>\n",
       "      <td>0</td>\n",
       "      <td>9098968931190872148</td>\n",
       "      <td>JOIN_INSIDE</td>\n",
       "      <td>0.66736</td>\n",
       "      <td>2020-06-01 00:10:06.287</td>\n",
       "    </tr>\n",
       "    <tr>\n",
       "      <th>2</th>\n",
       "      <td>613315</td>\n",
       "      <td>2020-06-01 00:10:06.637</td>\n",
       "      <td>AUDUSD</td>\n",
       "      <td>LIMIT</td>\n",
       "      <td>GFD</td>\n",
       "      <td>2006010000500000001</td>\n",
       "      <td>BUY</td>\n",
       "      <td>MISSED</td>\n",
       "      <td>MISSED</td>\n",
       "      <td>233</td>\n",
       "      <td>37</td>\n",
       "      <td>0.66738</td>\n",
       "      <td>500000.0</td>\n",
       "      <td>0.0</td>\n",
       "      <td>1590970206335</td>\n",
       "      <td>1590970206337</td>\n",
       "      <td>0.66734</td>\n",
       "      <td>0.66739</td>\n",
       "      <td>0.66738</td>\n",
       "      <td>0.66739</td>\n",
       "      <td>YES</td>\n",
       "      <td>NO</td>\n",
       "      <td>NO</td>\n",
       "      <td>NO</td>\n",
       "      <td>2020-06-01 00:10:06.280</td>\n",
       "      <td>PRICE EXPIRED BEFORE ORDER PLACEMENT</td>\n",
       "      <td>9098968931137785993</td>\n",
       "      <td>9098968931137681768</td>\n",
       "      <td>333682.5</td>\n",
       "      <td>0.667365</td>\n",
       "      <td>YES</td>\n",
       "      <td>0</td>\n",
       "      <td>9098968931190872148</td>\n",
       "      <td>JOIN_INSIDE</td>\n",
       "      <td>0.66734</td>\n",
       "      <td>2020-06-01 00:10:06.333</td>\n",
       "    </tr>\n",
       "    <tr>\n",
       "      <th>3</th>\n",
       "      <td>613738</td>\n",
       "      <td>2020-06-01 00:18:05.397</td>\n",
       "      <td>USDJPY</td>\n",
       "      <td>LIMIT</td>\n",
       "      <td>DAY</td>\n",
       "      <td>2006010000412000001</td>\n",
       "      <td>BUY</td>\n",
       "      <td>FILLED</td>\n",
       "      <td>FILLED</td>\n",
       "      <td>539</td>\n",
       "      <td>8</td>\n",
       "      <td>107.83800</td>\n",
       "      <td>500000.0</td>\n",
       "      <td>500000.0</td>\n",
       "      <td>1590970679942</td>\n",
       "      <td>1590970679963</td>\n",
       "      <td>107.83500</td>\n",
       "      <td>107.84000</td>\n",
       "      <td>107.83500</td>\n",
       "      <td>107.84000</td>\n",
       "      <td>YES</td>\n",
       "      <td>NO</td>\n",
       "      <td>NO</td>\n",
       "      <td>NO</td>\n",
       "      <td>2020-06-01 00:18:05.397</td>\n",
       "      <td>FILLED</td>\n",
       "      <td>9098968960739403181</td>\n",
       "      <td>9098968960738063064</td>\n",
       "      <td>500000.0</td>\n",
       "      <td>1.000000</td>\n",
       "      <td>YES</td>\n",
       "      <td>107</td>\n",
       "      <td>9098968961340922538</td>\n",
       "      <td>JOIN_INSIDE</td>\n",
       "      <td>107.83500</td>\n",
       "      <td>2020-06-01 00:17:59.907</td>\n",
       "    </tr>\n",
       "    <tr>\n",
       "      <th>4</th>\n",
       "      <td>613316</td>\n",
       "      <td>2020-06-01 00:18:27.050</td>\n",
       "      <td>AUDUSD</td>\n",
       "      <td>VWAP</td>\n",
       "      <td>IOC</td>\n",
       "      <td>2006010000336000003</td>\n",
       "      <td>BUY</td>\n",
       "      <td>MISSED</td>\n",
       "      <td>MISSED</td>\n",
       "      <td>233</td>\n",
       "      <td>37</td>\n",
       "      <td>0.66831</td>\n",
       "      <td>500000.0</td>\n",
       "      <td>0.0</td>\n",
       "      <td>1590970706644</td>\n",
       "      <td>1590970706748</td>\n",
       "      <td>0.66827</td>\n",
       "      <td>0.66829</td>\n",
       "      <td>0.66839</td>\n",
       "      <td>0.66846</td>\n",
       "      <td>YES</td>\n",
       "      <td>YES</td>\n",
       "      <td>YES</td>\n",
       "      <td>YES</td>\n",
       "      <td>2020-06-01 00:18:26.657</td>\n",
       "      <td>PRICE EXPIRED IN RANDOM DELAY</td>\n",
       "      <td>9098968962413482486</td>\n",
       "      <td>9098968962406938064</td>\n",
       "      <td>334137.5</td>\n",
       "      <td>0.668275</td>\n",
       "      <td>NO</td>\n",
       "      <td>-1</td>\n",
       "      <td>0</td>\n",
       "      <td>JOIN_INSIDE</td>\n",
       "      <td>0.66827</td>\n",
       "      <td>2020-06-01 00:18:26.643</td>\n",
       "    </tr>\n",
       "  </tbody>\n",
       "</table>\n",
       "</div>"
      ],
      "text/plain": [
       "       id                     TIME  SYMBOL ORD_TYPE  TIF             ORDER_ID  \\\n",
       "0  613321  2020-05-31 23:49:00.593  EURUSD    LIMIT  GFD  2006010000472000003   \n",
       "1  613314  2020-06-01 00:10:06.637  AUDUSD     VWAP  IOC  2006010000336000001   \n",
       "2  613315  2020-06-01 00:10:06.637  AUDUSD    LIMIT  GFD  2006010000500000001   \n",
       "3  613738  2020-06-01 00:18:05.397  USDJPY    LIMIT  DAY  2006010000412000001   \n",
       "4  613316  2020-06-01 00:18:27.050  AUDUSD     VWAP  IOC  2006010000336000003   \n",
       "\n",
       "  ORDER_ACTION FILL_STATUS FILL_SUB_STATUS  USER_ID  FIRM_ID  ORDER_PRICE  \\\n",
       "0         SELL      FILLED          FILLED      811        7      1.11180   \n",
       "1          BUY      MISSED          MISSED      233       37      0.66738   \n",
       "2          BUY      MISSED          MISSED      233       37      0.66738   \n",
       "3          BUY      FILLED          FILLED      539        8    107.83800   \n",
       "4          BUY      MISSED          MISSED      233       37      0.66831   \n",
       "\n",
       "     AMOUNT  AMOUNT_DONE     ORDER_TIME  ACTIVATION_TIME  PLACEMENT_TOB_BID  \\\n",
       "0  500000.0     500000.0  1590968940590    1590968940591            1.11181   \n",
       "1  500000.0          0.0  1590970206286    1590970206335            0.66736   \n",
       "2  500000.0          0.0  1590970206335    1590970206337            0.66734   \n",
       "3  500000.0     500000.0  1590970679942    1590970679963          107.83500   \n",
       "4  500000.0          0.0  1590970706644    1590970706748            0.66827   \n",
       "\n",
       "   PLACEMENT_TOB_ASK  ACTIVATION_TOB_BID  ACTIVATION_TOB_ASK  \\\n",
       "0            1.11184             1.11179             1.11184   \n",
       "1            0.66739             0.66734             0.66739   \n",
       "2            0.66739             0.66738             0.66739   \n",
       "3          107.84000           107.83500           107.84000   \n",
       "4            0.66829             0.66839             0.66846   \n",
       "\n",
       "  MATCH_EXISTED_PRIOR_TO_PLACEMENT MATCH_EXISTED_AT_PLACEMENT_TIME  \\\n",
       "0                              YES                             YES   \n",
       "1                              YES                              NO   \n",
       "2                              YES                              NO   \n",
       "3                              YES                              NO   \n",
       "4                              YES                             YES   \n",
       "\n",
       "  MATCH_EXISTED_DURING_RANDOM_DELAY MATCH_PRICE_EXPIRED_DURING_RANDOM_DELAY  \\\n",
       "0                               YES                                      NO   \n",
       "1                                NO                                      NO   \n",
       "2                                NO                                      NO   \n",
       "3                                NO                                      NO   \n",
       "4                               YES                                     YES   \n",
       "\n",
       "   MATCH_PRICE_EXPIRY_TIME                  ORDER_CLASSIFICATION  \\\n",
       "0  2020-05-31 23:49:00.593                                FILLED   \n",
       "1  2020-06-01 00:10:06.280  PRICE EXPIRED BEFORE ORDER PLACEMENT   \n",
       "2  2020-06-01 00:10:06.280  PRICE EXPIRED BEFORE ORDER PLACEMENT   \n",
       "3  2020-06-01 00:18:05.397                                FILLED   \n",
       "4  2020-06-01 00:18:26.657         PRICE EXPIRED IN RANDOM DELAY   \n",
       "\n",
       "   ACTIVATION_TIMESTAMP  ORDER_ENTRY_TIMESTAMP  USD_EQUIV_AMOUNT  \\\n",
       "0   9098956659842636727    9098956659842518648          555910.0   \n",
       "1   9098968931137673747    9098968931134563064          333687.5   \n",
       "2   9098968931137785993    9098968931137681768          333682.5   \n",
       "3   9098968960739403181    9098968960738063064          500000.0   \n",
       "4   9098968962413482486    9098968962406938064          334137.5   \n",
       "\n",
       "   USD_CONV_RATE MATCH_EXISTS_AFTER_ORDER_CANCEL  FUTURE_MATCHING_PRICE  \\\n",
       "0       1.111820                             YES                      1   \n",
       "1       0.667375                             YES                      0   \n",
       "2       0.667365                             YES                      0   \n",
       "3       1.000000                             YES                    107   \n",
       "4       0.668275                              NO                     -1   \n",
       "\n",
       "   FUTURE_MATCHING_TS_CUREX PRE_PLACEMENT_BOOK_JOIN_STATUS  \\\n",
       "0       9098956659912597714                    JOIN_INSIDE   \n",
       "1       9098968931190872148                    JOIN_INSIDE   \n",
       "2       9098968931190872148                    JOIN_INSIDE   \n",
       "3       9098968961340922538                    JOIN_INSIDE   \n",
       "4                         0                    JOIN_INSIDE   \n",
       "\n",
       "   PRE_PLACEMENT_BOOK_JOIN_PRICE PRE_PLACEMENT_BOOK_JOIN_TIME  \n",
       "0                        1.11184      2020-05-31 23:49:00.587  \n",
       "1                        0.66736      2020-06-01 00:10:06.287  \n",
       "2                        0.66734      2020-06-01 00:10:06.333  \n",
       "3                      107.83500      2020-06-01 00:17:59.907  \n",
       "4                        0.66827      2020-06-01 00:18:26.643  "
      ]
     },
     "execution_count": 119,
     "metadata": {},
     "output_type": "execute_result"
    }
   ],
   "source": [
    "df.head()"
   ]
  },
  {
   "cell_type": "code",
   "execution_count": 11,
   "metadata": {},
   "outputs": [],
   "source": [
    "df.columns = df.iloc[43]"
   ]
  },
  {
   "cell_type": "code",
   "execution_count": 13,
   "metadata": {},
   "outputs": [],
   "source": [
    "df = df[44:]"
   ]
  },
  {
   "cell_type": "code",
   "execution_count": 59,
   "metadata": {},
   "outputs": [
    {
     "data": {
      "text/plain": [
       "43\n",
       "FirmName                                                   BARC\n",
       "UserName                                                barcad1\n",
       "ReceiveTime                          2020-08-04 14:28:50.603000\n",
       "ActivationTime                       2020-08-04 14:28:50.603000\n",
       "Year                                                       2020\n",
       "WeekOfYear                                                   32\n",
       "MissClass                                                i: >2s\n",
       "OrderId                                     2008040000200009728\n",
       "Symbol                                                   GBPUSD\n",
       "OrderType                                                 LIMIT\n",
       "TIF                                                         DAY\n",
       "BuySell                                                     BUY\n",
       "MissFill                                                 MISSED\n",
       "MissFillPartial                                          MISSED\n",
       "OrderPrice                                               1.3036\n",
       "OrderAmount                                             1000000\n",
       "OrderAmountDone                                               0\n",
       "PlacementBid                                            1.30367\n",
       "PlacementAsk                                            1.30377\n",
       "ActivationBid                                           1.30367\n",
       "ActivationAsk                                           1.30377\n",
       "MATCH_EXISTED_PRIOR_TO_PLACEMENT                             NO\n",
       "MATCH_EXISTED_AT_PLACEMENT_TIME                              NO\n",
       "MATCH_EXISTED_DURING_RANDOM_DELAY                            NO\n",
       "PriceExpirationTime                  2020-08-04 14:28:20.603000\n",
       "MissReason                                             NO PRICE\n",
       "USDEquivalentAmount                                 1.30372e+06\n",
       "USDConverationPrice                                     1.30372\n",
       "OrderPlacementPosition                                     AWAY\n",
       "OrderActivationPosition                                    AWAY\n",
       "MissPriceDeltaPips                                          1.7\n",
       "PlacementSpread                                               1\n",
       "ReceiveTimeEST                       2020-08-04 10:28:50.603000\n",
       "ActivationTimeEST                    2020-08-04 10:28:50.607000\n",
       "TradingWeek                                 2020-08-03 00:00:00\n",
       "TradeDate                                   2020-08-04 00:00:00\n",
       "MissDelta                                                -30002\n",
       "ClientFirmName                                             BARC\n",
       "ClientIdentified                                      Anonymous\n",
       "USDAmountDone                                                 0\n",
       "USDAmountLeft                                       1.30372e+06\n",
       "MissFillPartialAmountUSD                            1.30372e+06\n",
       "YearQuarter                                                   3\n",
       "AggressivePassive                                       PASSIVE\n",
       "EndToEndLifetimeMs                                          709\n",
       "WorkingLifetimeMs                                           708\n",
       "TimeToActivationMics                                       1686\n",
       "FutureMatch                                                  NO\n",
       "FutureMatchMs                                                 0\n",
       "FutureMatchBucket                                         g: NA\n",
       "WorkingLifetimeBucket                               c: 500 - 1s\n",
       "PRE_PLACEMENT_BOOK_JOIN_STATUS                          NO_JOIN\n",
       "PRE_PLACEMENT_BOOK_JOIN_PRICE                                -1\n",
       "PRE_PLACEMENT_BOOK_JOIN_TIME         2020-08-04 14:28:20.603000\n",
       "Name: 224, dtype: object"
      ]
     },
     "execution_count": 59,
     "metadata": {},
     "output_type": "execute_result"
    }
   ],
   "source": [
    "df.iloc[180]"
   ]
  },
  {
   "cell_type": "code",
   "execution_count": null,
   "metadata": {},
   "outputs": [],
   "source": [
    "df.sort_values(by='PRE_PLACEMENT_BOOK_JOIN_TIME')"
   ]
  },
  {
   "cell_type": "code",
   "execution_count": 17,
   "metadata": {},
   "outputs": [],
   "source": [
    "combo = pd.merge(af,df, left_on = 'OrderId',right_on = 'OrderId')"
   ]
  },
  {
   "cell_type": "code",
   "execution_count": 20,
   "metadata": {},
   "outputs": [
    {
     "ename": "ValueError",
     "evalue": "This sheet is too large! Your sheet size is: 15054148, 109 Max sheet size is: 1048576, 16384",
     "output_type": "error",
     "traceback": [
      "\u001b[1;31m---------------------------------------------------------------------------\u001b[0m",
      "\u001b[1;31mValueError\u001b[0m                                Traceback (most recent call last)",
      "\u001b[1;32m<ipython-input-20-3fa9aab36865>\u001b[0m in \u001b[0;36m<module>\u001b[1;34m\u001b[0m\n\u001b[1;32m----> 1\u001b[1;33m \u001b[0mcombo\u001b[0m\u001b[1;33m.\u001b[0m\u001b[0mto_excel\u001b[0m\u001b[1;33m(\u001b[0m\u001b[1;34m'db_combo_join_to_inside.xlsx'\u001b[0m\u001b[1;33m)\u001b[0m\u001b[1;33m\u001b[0m\u001b[1;33m\u001b[0m\u001b[0m\n\u001b[0m",
      "\u001b[1;32m~\\Anaconda3\\lib\\site-packages\\pandas\\core\\generic.py\u001b[0m in \u001b[0;36mto_excel\u001b[1;34m(self, excel_writer, sheet_name, na_rep, float_format, columns, header, index, index_label, startrow, startcol, engine, merge_cells, encoding, inf_rep, verbose, freeze_panes)\u001b[0m\n\u001b[0;32m   2173\u001b[0m             \u001b[0minf_rep\u001b[0m\u001b[1;33m=\u001b[0m\u001b[0minf_rep\u001b[0m\u001b[1;33m,\u001b[0m\u001b[1;33m\u001b[0m\u001b[1;33m\u001b[0m\u001b[0m\n\u001b[0;32m   2174\u001b[0m         )\n\u001b[1;32m-> 2175\u001b[1;33m         formatter.write(\n\u001b[0m\u001b[0;32m   2176\u001b[0m             \u001b[0mexcel_writer\u001b[0m\u001b[1;33m,\u001b[0m\u001b[1;33m\u001b[0m\u001b[1;33m\u001b[0m\u001b[0m\n\u001b[0;32m   2177\u001b[0m             \u001b[0msheet_name\u001b[0m\u001b[1;33m=\u001b[0m\u001b[0msheet_name\u001b[0m\u001b[1;33m,\u001b[0m\u001b[1;33m\u001b[0m\u001b[1;33m\u001b[0m\u001b[0m\n",
      "\u001b[1;32m~\\Anaconda3\\lib\\site-packages\\pandas\\io\\formats\\excel.py\u001b[0m in \u001b[0;36mwrite\u001b[1;34m(self, writer, sheet_name, startrow, startcol, freeze_panes, engine)\u001b[0m\n\u001b[0;32m    716\u001b[0m         \u001b[0mnum_rows\u001b[0m\u001b[1;33m,\u001b[0m \u001b[0mnum_cols\u001b[0m \u001b[1;33m=\u001b[0m \u001b[0mself\u001b[0m\u001b[1;33m.\u001b[0m\u001b[0mdf\u001b[0m\u001b[1;33m.\u001b[0m\u001b[0mshape\u001b[0m\u001b[1;33m\u001b[0m\u001b[1;33m\u001b[0m\u001b[0m\n\u001b[0;32m    717\u001b[0m         \u001b[1;32mif\u001b[0m \u001b[0mnum_rows\u001b[0m \u001b[1;33m>\u001b[0m \u001b[0mself\u001b[0m\u001b[1;33m.\u001b[0m\u001b[0mmax_rows\u001b[0m \u001b[1;32mor\u001b[0m \u001b[0mnum_cols\u001b[0m \u001b[1;33m>\u001b[0m \u001b[0mself\u001b[0m\u001b[1;33m.\u001b[0m\u001b[0mmax_cols\u001b[0m\u001b[1;33m:\u001b[0m\u001b[1;33m\u001b[0m\u001b[1;33m\u001b[0m\u001b[0m\n\u001b[1;32m--> 718\u001b[1;33m             raise ValueError(\n\u001b[0m\u001b[0;32m    719\u001b[0m                 \u001b[1;34mf\"This sheet is too large! Your sheet size is: {num_rows}, {num_cols} \"\u001b[0m\u001b[1;33m\u001b[0m\u001b[1;33m\u001b[0m\u001b[0m\n\u001b[0;32m    720\u001b[0m                 \u001b[1;34mf\"Max sheet size is: {self.max_rows}, {self.max_cols}\"\u001b[0m\u001b[1;33m\u001b[0m\u001b[1;33m\u001b[0m\u001b[0m\n",
      "\u001b[1;31mValueError\u001b[0m: This sheet is too large! Your sheet size is: 15054148, 109 Max sheet size is: 1048576, 16384"
     ]
    }
   ],
   "source": [
    "combo.to_excel('db_combo_join_to_inside.xlsx')"
   ]
  },
  {
   "cell_type": "code",
   "execution_count": 21,
   "metadata": {},
   "outputs": [
    {
     "name": "stdout",
     "output_type": "stream",
     "text": [
      "<class 'pandas.core.frame.DataFrame'>\n",
      "RangeIndex: 721593 entries, 44 to 721636\n",
      "Data columns (total 54 columns):\n",
      " #   Column                             Non-Null Count   Dtype \n",
      "---  ------                             --------------   ----- \n",
      " 0   FirmName                           721593 non-null  object\n",
      " 1   UserName                           721593 non-null  object\n",
      " 2   ReceiveTime                        721593 non-null  object\n",
      " 3   ActivationTime                     721593 non-null  object\n",
      " 4   Year                               721593 non-null  object\n",
      " 5   WeekOfYear                         721593 non-null  object\n",
      " 6   MissClass                          720602 non-null  object\n",
      " 7   OrderId                            721593 non-null  object\n",
      " 8   Symbol                             721593 non-null  object\n",
      " 9   OrderType                          721593 non-null  object\n",
      " 10  TIF                                721593 non-null  object\n",
      " 11  BuySell                            721593 non-null  object\n",
      " 12  MissFill                           721593 non-null  object\n",
      " 13  MissFillPartial                    721593 non-null  object\n",
      " 14  OrderPrice                         721593 non-null  object\n",
      " 15  OrderAmount                        721593 non-null  object\n",
      " 16  OrderAmountDone                    721593 non-null  object\n",
      " 17  PlacementBid                       721593 non-null  object\n",
      " 18  PlacementAsk                       721593 non-null  object\n",
      " 19  ActivationBid                      721593 non-null  object\n",
      " 20  ActivationAsk                      721593 non-null  object\n",
      " 21  MATCH_EXISTED_PRIOR_TO_PLACEMENT   721593 non-null  object\n",
      " 22  MATCH_EXISTED_AT_PLACEMENT_TIME    721593 non-null  object\n",
      " 23  MATCH_EXISTED_DURING_RANDOM_DELAY  721593 non-null  object\n",
      " 24  PriceExpirationTime                721593 non-null  object\n",
      " 25  MissReason                         721593 non-null  object\n",
      " 26  USDEquivalentAmount                721593 non-null  object\n",
      " 27  USDConverationPrice                721593 non-null  object\n",
      " 28  OrderPlacementPosition             721593 non-null  object\n",
      " 29  OrderActivationPosition            721593 non-null  object\n",
      " 30  MissPriceDeltaPips                 721593 non-null  object\n",
      " 31  PlacementSpread                    721532 non-null  object\n",
      " 32  ReceiveTimeEST                     721593 non-null  object\n",
      " 33  ActivationTimeEST                  721593 non-null  object\n",
      " 34  TradingWeek                        721593 non-null  object\n",
      " 35  TradeDate                          721593 non-null  object\n",
      " 36  MissDelta                          721593 non-null  object\n",
      " 37  ClientFirmName                     721593 non-null  object\n",
      " 38  ClientIdentified                   721593 non-null  object\n",
      " 39  USDAmountDone                      721593 non-null  object\n",
      " 40  USDAmountLeft                      721593 non-null  object\n",
      " 41  MissFillPartialAmountUSD           721593 non-null  object\n",
      " 42  YearQuarter                        721593 non-null  object\n",
      " 43  AggressivePassive                  721593 non-null  object\n",
      " 44  EndToEndLifetimeMs                 721593 non-null  object\n",
      " 45  WorkingLifetimeMs                  721593 non-null  object\n",
      " 46  TimeToActivationMics               721593 non-null  object\n",
      " 47  FutureMatch                        721593 non-null  object\n",
      " 48  FutureMatchMs                      721593 non-null  object\n",
      " 49  FutureMatchBucket                  721593 non-null  object\n",
      " 50  WorkingLifetimeBucket              721593 non-null  object\n",
      " 51  PRE_PLACEMENT_BOOK_JOIN_STATUS     721593 non-null  object\n",
      " 52  PRE_PLACEMENT_BOOK_JOIN_PRICE      721593 non-null  object\n",
      " 53  PRE_PLACEMENT_BOOK_JOIN_TIME       721593 non-null  object\n",
      "dtypes: object(54)\n",
      "memory usage: 297.3+ MB\n"
     ]
    }
   ],
   "source": [
    "df.info()"
   ]
  },
  {
   "cell_type": "code",
   "execution_count": 34,
   "metadata": {},
   "outputs": [],
   "source": [
    "join_orderid = df[['OrderId','PRE_PLACEMENT_BOOK_JOIN_STATUS','PRE_PLACEMENT_BOOK_JOIN_PRICE','PRE_PLACEMENT_BOOK_JOIN_TIME']]"
   ]
  },
  {
   "cell_type": "code",
   "execution_count": 35,
   "metadata": {},
   "outputs": [],
   "source": [
    "join_orderid.to_excel('preplacement_joins_and_orderid.xlsx')"
   ]
  },
  {
   "cell_type": "code",
   "execution_count": 36,
   "metadata": {},
   "outputs": [],
   "source": [
    "inside = pd.merge(af,join_orderid,left_on= 'OrderId',right_on='OrderId')"
   ]
  },
  {
   "cell_type": "code",
   "execution_count": 41,
   "metadata": {},
   "outputs": [
    {
     "data": {
      "text/plain": [
       "1008191"
      ]
     },
     "execution_count": 41,
     "metadata": {},
     "output_type": "execute_result"
    }
   ],
   "source": [
    "286598+721593"
   ]
  },
  {
   "cell_type": "code",
   "execution_count": 40,
   "metadata": {
    "scrolled": true
   },
   "outputs": [
    {
     "name": "stdout",
     "output_type": "stream",
     "text": [
      "<class 'pandas.core.frame.DataFrame'>\n",
      "RangeIndex: 721593 entries, 44 to 721636\n",
      "Data columns (total 4 columns):\n",
      " #   Column                          Non-Null Count   Dtype \n",
      "---  ------                          --------------   ----- \n",
      " 0   OrderId                         721593 non-null  object\n",
      " 1   PRE_PLACEMENT_BOOK_JOIN_STATUS  721593 non-null  object\n",
      " 2   PRE_PLACEMENT_BOOK_JOIN_PRICE   721593 non-null  object\n",
      " 3   PRE_PLACEMENT_BOOK_JOIN_TIME    721593 non-null  object\n",
      "dtypes: object(4)\n",
      "memory usage: 22.0+ MB\n"
     ]
    }
   ],
   "source": [
    "join_orderid.info()"
   ]
  },
  {
   "cell_type": "code",
   "execution_count": 51,
   "metadata": {},
   "outputs": [
    {
     "data": {
      "text/plain": [
       "7051"
      ]
     },
     "execution_count": 51,
     "metadata": {},
     "output_type": "execute_result"
    }
   ],
   "source": [
    "len(join_orderid['OrderId'].unique())"
   ]
  },
  {
   "cell_type": "code",
   "execution_count": 38,
   "metadata": {},
   "outputs": [
    {
     "name": "stdout",
     "output_type": "stream",
     "text": [
      "<class 'pandas.core.frame.DataFrame'>\n",
      "RangeIndex: 286598 entries, 0 to 286597\n",
      "Data columns (total 56 columns):\n",
      " #   Column                             Non-Null Count   Dtype         \n",
      "---  ------                             --------------   -----         \n",
      " 0   Unnamed: 0                         286598 non-null  int64         \n",
      " 1   Unnamed: 0.1                       286598 non-null  int64         \n",
      " 2   FirmName                           286598 non-null  object        \n",
      " 3   UserName                           286598 non-null  object        \n",
      " 4   ReceiveTime                        286598 non-null  datetime64[ns]\n",
      " 5   ActivationTime                     286598 non-null  datetime64[ns]\n",
      " 6   Year                               286598 non-null  int64         \n",
      " 7   WeekOfYear                         286598 non-null  int64         \n",
      " 8   MissClass                          285857 non-null  object        \n",
      " 9   OrderId                            286598 non-null  int64         \n",
      " 10  Symbol                             286598 non-null  object        \n",
      " 11  OrderType                          286598 non-null  object        \n",
      " 12  TIF                                286598 non-null  object        \n",
      " 13  BuySell                            286598 non-null  object        \n",
      " 14  MissFill                           286598 non-null  object        \n",
      " 15  MissFillPartial                    286598 non-null  object        \n",
      " 16  OrderPrice                         286598 non-null  float64       \n",
      " 17  OrderAmount                        286598 non-null  float64       \n",
      " 18  OrderAmountDone                    286598 non-null  float64       \n",
      " 19  PlacementBid                       286598 non-null  float64       \n",
      " 20  PlacementAsk                       286598 non-null  float64       \n",
      " 21  ActivationBid                      286598 non-null  float64       \n",
      " 22  ActivationAsk                      286598 non-null  float64       \n",
      " 23  MATCH_EXISTED_PRIOR_TO_PLACEMENT   286598 non-null  object        \n",
      " 24  MATCH_EXISTED_AT_PLACEMENT_TIME    286598 non-null  object        \n",
      " 25  MATCH_EXISTED_DURING_RANDOM_DELAY  286598 non-null  object        \n",
      " 26  PriceExpirationTime                286598 non-null  datetime64[ns]\n",
      " 27  MissReason                         286598 non-null  object        \n",
      " 28  USDEquivalentAmount                286598 non-null  float64       \n",
      " 29  USDConverationPrice                286598 non-null  float64       \n",
      " 30  OrderPlacementPosition             286598 non-null  object        \n",
      " 31  OrderActivationPosition            286598 non-null  object        \n",
      " 32  MissPriceDeltaPips                 286598 non-null  float64       \n",
      " 33  PlacementSpread                    286589 non-null  float64       \n",
      " 34  ReceiveTimeEST                     286598 non-null  datetime64[ns]\n",
      " 35  ActivationTimeEST                  286598 non-null  datetime64[ns]\n",
      " 36  TradingWeek                        286598 non-null  datetime64[ns]\n",
      " 37  TradeDate                          286598 non-null  datetime64[ns]\n",
      " 38  MissDelta                          286598 non-null  int64         \n",
      " 39  ClientFirmName                     286598 non-null  object        \n",
      " 40  ClientIdentified                   286598 non-null  object        \n",
      " 41  USDAmountDone                      286598 non-null  float64       \n",
      " 42  USDAmountLeft                      286598 non-null  float64       \n",
      " 43  MissFillPartialAmountUSD           286598 non-null  float64       \n",
      " 44  YearQuarter                        286598 non-null  int64         \n",
      " 45  AggressivePassive                  286598 non-null  object        \n",
      " 46  EndToEndLifetimeMs                 286598 non-null  int64         \n",
      " 47  WorkingLifetimeMs                  286598 non-null  int64         \n",
      " 48  TimeToActivationMics               286598 non-null  int64         \n",
      " 49  FutureMatch                        286598 non-null  object        \n",
      " 50  FutureMatchMs                      286598 non-null  int64         \n",
      " 51  FutureMatchBucket                  286598 non-null  object        \n",
      " 52  WorkingLifetimeBucket              286598 non-null  object        \n",
      " 53  bid_spread                         172667 non-null  float64       \n",
      " 54  ask_spread                         172667 non-null  float64       \n",
      " 55  Activation_Spread                  286598 non-null  float64       \n",
      "dtypes: datetime64[ns](7), float64(17), int64(11), object(21)\n",
      "memory usage: 122.4+ MB\n"
     ]
    }
   ],
   "source": [
    "af.info()"
   ]
  },
  {
   "cell_type": "code",
   "execution_count": 44,
   "metadata": {},
   "outputs": [],
   "source": [
    "insidenona = inside.dropna()"
   ]
  },
  {
   "cell_type": "code",
   "execution_count": 47,
   "metadata": {},
   "outputs": [],
   "source": [
    "unique_id = insidenona['OrderId'].unique()"
   ]
  },
  {
   "cell_type": "code",
   "execution_count": 49,
   "metadata": {},
   "outputs": [
    {
     "data": {
      "text/plain": [
       "1663"
      ]
     },
     "execution_count": 49,
     "metadata": {},
     "output_type": "execute_result"
    }
   ],
   "source": [
    "len(unique_id)"
   ]
  },
  {
   "cell_type": "code",
   "execution_count": 50,
   "metadata": {},
   "outputs": [
    {
     "data": {
      "text/plain": [
       "8777898"
      ]
     },
     "execution_count": 50,
     "metadata": {},
     "output_type": "execute_result"
    }
   ],
   "source": [
    "len(insidenona)"
   ]
  },
  {
   "cell_type": "code",
   "execution_count": null,
   "metadata": {},
   "outputs": [],
   "source": []
  }
 ],
 "metadata": {
  "kernelspec": {
   "display_name": "Python 3",
   "language": "python",
   "name": "python3"
  },
  "language_info": {
   "codemirror_mode": {
    "name": "ipython",
    "version": 3
   },
   "file_extension": ".py",
   "mimetype": "text/x-python",
   "name": "python",
   "nbconvert_exporter": "python",
   "pygments_lexer": "ipython3",
   "version": "3.8.3"
  }
 },
 "nbformat": 4,
 "nbformat_minor": 4
}
