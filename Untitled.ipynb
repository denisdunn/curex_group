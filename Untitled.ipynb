{
 "cells": [
  {
   "cell_type": "code",
   "execution_count": 2,
   "metadata": {},
   "outputs": [],
   "source": [
    "import pandas as pd\n",
    "import numpy as np\n",
    "import sklearn\n",
    "import matplotlib\n",
    "import statsmodels\n",
    "import itertools"
   ]
  },
  {
   "cell_type": "code",
   "execution_count": 3,
   "metadata": {},
   "outputs": [],
   "source": [
    "df = pd.read_excel(r\"C:\\Users\\ddunn.CUREXCURRENCY\\Desktop\\denis_pre_placement_join.xlsx\")"
   ]
  },
  {
   "cell_type": "code",
   "execution_count": 5,
   "metadata": {},
   "outputs": [],
   "source": [
    "df = pd.read_excel(r\"C:\\Users\\ddunn.CUREXCURRENCY\\Desktop\\denis_fill_and_misses_pvt_v10_book_join.xlsx\")"
   ]
  },
  {
   "cell_type": "code",
   "execution_count": 16,
   "metadata": {},
   "outputs": [],
   "source": [
    "af = pd.read_excel(r\"C:\\Users\\ddunn.CUREXCURRENCY\\Desktop\\insiders.xlsx\")"
   ]
  },
  {
   "cell_type": "code",
   "execution_count": 54,
   "metadata": {},
   "outputs": [
    {
     "data": {
      "text/plain": [
       "7051"
      ]
     },
     "execution_count": 54,
     "metadata": {},
     "output_type": "execute_result"
    }
   ],
   "source": [
    "len (df['OrderId'].unique())"
   ]
  },
  {
   "cell_type": "code",
   "execution_count": 57,
   "metadata": {
    "scrolled": true
   },
   "outputs": [
    {
     "data": {
      "text/plain": [
       "128"
      ]
     },
     "execution_count": 57,
     "metadata": {},
     "output_type": "execute_result"
    }
   ],
   "source": [
    "sum(df['OrderId']==2007200000422002944)"
   ]
  },
  {
   "cell_type": "code",
   "execution_count": 58,
   "metadata": {},
   "outputs": [
    {
     "data": {
      "text/plain": [
       "902528"
      ]
     },
     "execution_count": 58,
     "metadata": {},
     "output_type": "execute_result"
    }
   ],
   "source": [
    "7051*128"
   ]
  },
  {
   "cell_type": "code",
   "execution_count": 52,
   "metadata": {},
   "outputs": [
    {
     "name": "stdout",
     "output_type": "stream",
     "text": [
      "<class 'pandas.core.frame.DataFrame'>\n",
      "RangeIndex: 721593 entries, 44 to 721636\n",
      "Data columns (total 54 columns):\n",
      " #   Column                             Non-Null Count   Dtype \n",
      "---  ------                             --------------   ----- \n",
      " 0   FirmName                           721593 non-null  object\n",
      " 1   UserName                           721593 non-null  object\n",
      " 2   ReceiveTime                        721593 non-null  object\n",
      " 3   ActivationTime                     721593 non-null  object\n",
      " 4   Year                               721593 non-null  object\n",
      " 5   WeekOfYear                         721593 non-null  object\n",
      " 6   MissClass                          720602 non-null  object\n",
      " 7   OrderId                            721593 non-null  object\n",
      " 8   Symbol                             721593 non-null  object\n",
      " 9   OrderType                          721593 non-null  object\n",
      " 10  TIF                                721593 non-null  object\n",
      " 11  BuySell                            721593 non-null  object\n",
      " 12  MissFill                           721593 non-null  object\n",
      " 13  MissFillPartial                    721593 non-null  object\n",
      " 14  OrderPrice                         721593 non-null  object\n",
      " 15  OrderAmount                        721593 non-null  object\n",
      " 16  OrderAmountDone                    721593 non-null  object\n",
      " 17  PlacementBid                       721593 non-null  object\n",
      " 18  PlacementAsk                       721593 non-null  object\n",
      " 19  ActivationBid                      721593 non-null  object\n",
      " 20  ActivationAsk                      721593 non-null  object\n",
      " 21  MATCH_EXISTED_PRIOR_TO_PLACEMENT   721593 non-null  object\n",
      " 22  MATCH_EXISTED_AT_PLACEMENT_TIME    721593 non-null  object\n",
      " 23  MATCH_EXISTED_DURING_RANDOM_DELAY  721593 non-null  object\n",
      " 24  PriceExpirationTime                721593 non-null  object\n",
      " 25  MissReason                         721593 non-null  object\n",
      " 26  USDEquivalentAmount                721593 non-null  object\n",
      " 27  USDConverationPrice                721593 non-null  object\n",
      " 28  OrderPlacementPosition             721593 non-null  object\n",
      " 29  OrderActivationPosition            721593 non-null  object\n",
      " 30  MissPriceDeltaPips                 721593 non-null  object\n",
      " 31  PlacementSpread                    721532 non-null  object\n",
      " 32  ReceiveTimeEST                     721593 non-null  object\n",
      " 33  ActivationTimeEST                  721593 non-null  object\n",
      " 34  TradingWeek                        721593 non-null  object\n",
      " 35  TradeDate                          721593 non-null  object\n",
      " 36  MissDelta                          721593 non-null  object\n",
      " 37  ClientFirmName                     721593 non-null  object\n",
      " 38  ClientIdentified                   721593 non-null  object\n",
      " 39  USDAmountDone                      721593 non-null  object\n",
      " 40  USDAmountLeft                      721593 non-null  object\n",
      " 41  MissFillPartialAmountUSD           721593 non-null  object\n",
      " 42  YearQuarter                        721593 non-null  object\n",
      " 43  AggressivePassive                  721593 non-null  object\n",
      " 44  EndToEndLifetimeMs                 721593 non-null  object\n",
      " 45  WorkingLifetimeMs                  721593 non-null  object\n",
      " 46  TimeToActivationMics               721593 non-null  object\n",
      " 47  FutureMatch                        721593 non-null  object\n",
      " 48  FutureMatchMs                      721593 non-null  object\n",
      " 49  FutureMatchBucket                  721593 non-null  object\n",
      " 50  WorkingLifetimeBucket              721593 non-null  object\n",
      " 51  PRE_PLACEMENT_BOOK_JOIN_STATUS     721593 non-null  object\n",
      " 52  PRE_PLACEMENT_BOOK_JOIN_PRICE      721593 non-null  object\n",
      " 53  PRE_PLACEMENT_BOOK_JOIN_TIME       721593 non-null  object\n",
      "dtypes: object(54)\n",
      "memory usage: 297.3+ MB\n"
     ]
    }
   ],
   "source": [
    "df.info()"
   ]
  },
  {
   "cell_type": "code",
   "execution_count": null,
   "metadata": {},
   "outputs": [],
   "source": [
    "721637-721594"
   ]
  },
  {
   "cell_type": "code",
   "execution_count": 11,
   "metadata": {},
   "outputs": [],
   "source": [
    "df.columns = df.iloc[43]"
   ]
  },
  {
   "cell_type": "code",
   "execution_count": 13,
   "metadata": {},
   "outputs": [],
   "source": [
    "df = df[44:]"
   ]
  },
  {
   "cell_type": "code",
   "execution_count": 59,
   "metadata": {},
   "outputs": [
    {
     "data": {
      "text/plain": [
       "43\n",
       "FirmName                                                   BARC\n",
       "UserName                                                barcad1\n",
       "ReceiveTime                          2020-08-04 14:28:50.603000\n",
       "ActivationTime                       2020-08-04 14:28:50.603000\n",
       "Year                                                       2020\n",
       "WeekOfYear                                                   32\n",
       "MissClass                                                i: >2s\n",
       "OrderId                                     2008040000200009728\n",
       "Symbol                                                   GBPUSD\n",
       "OrderType                                                 LIMIT\n",
       "TIF                                                         DAY\n",
       "BuySell                                                     BUY\n",
       "MissFill                                                 MISSED\n",
       "MissFillPartial                                          MISSED\n",
       "OrderPrice                                               1.3036\n",
       "OrderAmount                                             1000000\n",
       "OrderAmountDone                                               0\n",
       "PlacementBid                                            1.30367\n",
       "PlacementAsk                                            1.30377\n",
       "ActivationBid                                           1.30367\n",
       "ActivationAsk                                           1.30377\n",
       "MATCH_EXISTED_PRIOR_TO_PLACEMENT                             NO\n",
       "MATCH_EXISTED_AT_PLACEMENT_TIME                              NO\n",
       "MATCH_EXISTED_DURING_RANDOM_DELAY                            NO\n",
       "PriceExpirationTime                  2020-08-04 14:28:20.603000\n",
       "MissReason                                             NO PRICE\n",
       "USDEquivalentAmount                                 1.30372e+06\n",
       "USDConverationPrice                                     1.30372\n",
       "OrderPlacementPosition                                     AWAY\n",
       "OrderActivationPosition                                    AWAY\n",
       "MissPriceDeltaPips                                          1.7\n",
       "PlacementSpread                                               1\n",
       "ReceiveTimeEST                       2020-08-04 10:28:50.603000\n",
       "ActivationTimeEST                    2020-08-04 10:28:50.607000\n",
       "TradingWeek                                 2020-08-03 00:00:00\n",
       "TradeDate                                   2020-08-04 00:00:00\n",
       "MissDelta                                                -30002\n",
       "ClientFirmName                                             BARC\n",
       "ClientIdentified                                      Anonymous\n",
       "USDAmountDone                                                 0\n",
       "USDAmountLeft                                       1.30372e+06\n",
       "MissFillPartialAmountUSD                            1.30372e+06\n",
       "YearQuarter                                                   3\n",
       "AggressivePassive                                       PASSIVE\n",
       "EndToEndLifetimeMs                                          709\n",
       "WorkingLifetimeMs                                           708\n",
       "TimeToActivationMics                                       1686\n",
       "FutureMatch                                                  NO\n",
       "FutureMatchMs                                                 0\n",
       "FutureMatchBucket                                         g: NA\n",
       "WorkingLifetimeBucket                               c: 500 - 1s\n",
       "PRE_PLACEMENT_BOOK_JOIN_STATUS                          NO_JOIN\n",
       "PRE_PLACEMENT_BOOK_JOIN_PRICE                                -1\n",
       "PRE_PLACEMENT_BOOK_JOIN_TIME         2020-08-04 14:28:20.603000\n",
       "Name: 224, dtype: object"
      ]
     },
     "execution_count": 59,
     "metadata": {},
     "output_type": "execute_result"
    }
   ],
   "source": [
    "df.iloc[180]"
   ]
  },
  {
   "cell_type": "code",
   "execution_count": null,
   "metadata": {},
   "outputs": [],
   "source": [
    "df.sort_values(by='PRE_PLACEMENT_BOOK_JOIN_TIME')"
   ]
  },
  {
   "cell_type": "code",
   "execution_count": 17,
   "metadata": {},
   "outputs": [],
   "source": [
    "combo = pd.merge(af,df, left_on = 'OrderId',right_on = 'OrderId')"
   ]
  },
  {
   "cell_type": "code",
   "execution_count": 20,
   "metadata": {},
   "outputs": [
    {
     "ename": "ValueError",
     "evalue": "This sheet is too large! Your sheet size is: 15054148, 109 Max sheet size is: 1048576, 16384",
     "output_type": "error",
     "traceback": [
      "\u001b[1;31m---------------------------------------------------------------------------\u001b[0m",
      "\u001b[1;31mValueError\u001b[0m                                Traceback (most recent call last)",
      "\u001b[1;32m<ipython-input-20-3fa9aab36865>\u001b[0m in \u001b[0;36m<module>\u001b[1;34m\u001b[0m\n\u001b[1;32m----> 1\u001b[1;33m \u001b[0mcombo\u001b[0m\u001b[1;33m.\u001b[0m\u001b[0mto_excel\u001b[0m\u001b[1;33m(\u001b[0m\u001b[1;34m'db_combo_join_to_inside.xlsx'\u001b[0m\u001b[1;33m)\u001b[0m\u001b[1;33m\u001b[0m\u001b[1;33m\u001b[0m\u001b[0m\n\u001b[0m",
      "\u001b[1;32m~\\Anaconda3\\lib\\site-packages\\pandas\\core\\generic.py\u001b[0m in \u001b[0;36mto_excel\u001b[1;34m(self, excel_writer, sheet_name, na_rep, float_format, columns, header, index, index_label, startrow, startcol, engine, merge_cells, encoding, inf_rep, verbose, freeze_panes)\u001b[0m\n\u001b[0;32m   2173\u001b[0m             \u001b[0minf_rep\u001b[0m\u001b[1;33m=\u001b[0m\u001b[0minf_rep\u001b[0m\u001b[1;33m,\u001b[0m\u001b[1;33m\u001b[0m\u001b[1;33m\u001b[0m\u001b[0m\n\u001b[0;32m   2174\u001b[0m         )\n\u001b[1;32m-> 2175\u001b[1;33m         formatter.write(\n\u001b[0m\u001b[0;32m   2176\u001b[0m             \u001b[0mexcel_writer\u001b[0m\u001b[1;33m,\u001b[0m\u001b[1;33m\u001b[0m\u001b[1;33m\u001b[0m\u001b[0m\n\u001b[0;32m   2177\u001b[0m             \u001b[0msheet_name\u001b[0m\u001b[1;33m=\u001b[0m\u001b[0msheet_name\u001b[0m\u001b[1;33m,\u001b[0m\u001b[1;33m\u001b[0m\u001b[1;33m\u001b[0m\u001b[0m\n",
      "\u001b[1;32m~\\Anaconda3\\lib\\site-packages\\pandas\\io\\formats\\excel.py\u001b[0m in \u001b[0;36mwrite\u001b[1;34m(self, writer, sheet_name, startrow, startcol, freeze_panes, engine)\u001b[0m\n\u001b[0;32m    716\u001b[0m         \u001b[0mnum_rows\u001b[0m\u001b[1;33m,\u001b[0m \u001b[0mnum_cols\u001b[0m \u001b[1;33m=\u001b[0m \u001b[0mself\u001b[0m\u001b[1;33m.\u001b[0m\u001b[0mdf\u001b[0m\u001b[1;33m.\u001b[0m\u001b[0mshape\u001b[0m\u001b[1;33m\u001b[0m\u001b[1;33m\u001b[0m\u001b[0m\n\u001b[0;32m    717\u001b[0m         \u001b[1;32mif\u001b[0m \u001b[0mnum_rows\u001b[0m \u001b[1;33m>\u001b[0m \u001b[0mself\u001b[0m\u001b[1;33m.\u001b[0m\u001b[0mmax_rows\u001b[0m \u001b[1;32mor\u001b[0m \u001b[0mnum_cols\u001b[0m \u001b[1;33m>\u001b[0m \u001b[0mself\u001b[0m\u001b[1;33m.\u001b[0m\u001b[0mmax_cols\u001b[0m\u001b[1;33m:\u001b[0m\u001b[1;33m\u001b[0m\u001b[1;33m\u001b[0m\u001b[0m\n\u001b[1;32m--> 718\u001b[1;33m             raise ValueError(\n\u001b[0m\u001b[0;32m    719\u001b[0m                 \u001b[1;34mf\"This sheet is too large! Your sheet size is: {num_rows}, {num_cols} \"\u001b[0m\u001b[1;33m\u001b[0m\u001b[1;33m\u001b[0m\u001b[0m\n\u001b[0;32m    720\u001b[0m                 \u001b[1;34mf\"Max sheet size is: {self.max_rows}, {self.max_cols}\"\u001b[0m\u001b[1;33m\u001b[0m\u001b[1;33m\u001b[0m\u001b[0m\n",
      "\u001b[1;31mValueError\u001b[0m: This sheet is too large! Your sheet size is: 15054148, 109 Max sheet size is: 1048576, 16384"
     ]
    }
   ],
   "source": [
    "combo.to_excel('db_combo_join_to_inside.xlsx')"
   ]
  },
  {
   "cell_type": "code",
   "execution_count": 21,
   "metadata": {},
   "outputs": [
    {
     "name": "stdout",
     "output_type": "stream",
     "text": [
      "<class 'pandas.core.frame.DataFrame'>\n",
      "RangeIndex: 721593 entries, 44 to 721636\n",
      "Data columns (total 54 columns):\n",
      " #   Column                             Non-Null Count   Dtype \n",
      "---  ------                             --------------   ----- \n",
      " 0   FirmName                           721593 non-null  object\n",
      " 1   UserName                           721593 non-null  object\n",
      " 2   ReceiveTime                        721593 non-null  object\n",
      " 3   ActivationTime                     721593 non-null  object\n",
      " 4   Year                               721593 non-null  object\n",
      " 5   WeekOfYear                         721593 non-null  object\n",
      " 6   MissClass                          720602 non-null  object\n",
      " 7   OrderId                            721593 non-null  object\n",
      " 8   Symbol                             721593 non-null  object\n",
      " 9   OrderType                          721593 non-null  object\n",
      " 10  TIF                                721593 non-null  object\n",
      " 11  BuySell                            721593 non-null  object\n",
      " 12  MissFill                           721593 non-null  object\n",
      " 13  MissFillPartial                    721593 non-null  object\n",
      " 14  OrderPrice                         721593 non-null  object\n",
      " 15  OrderAmount                        721593 non-null  object\n",
      " 16  OrderAmountDone                    721593 non-null  object\n",
      " 17  PlacementBid                       721593 non-null  object\n",
      " 18  PlacementAsk                       721593 non-null  object\n",
      " 19  ActivationBid                      721593 non-null  object\n",
      " 20  ActivationAsk                      721593 non-null  object\n",
      " 21  MATCH_EXISTED_PRIOR_TO_PLACEMENT   721593 non-null  object\n",
      " 22  MATCH_EXISTED_AT_PLACEMENT_TIME    721593 non-null  object\n",
      " 23  MATCH_EXISTED_DURING_RANDOM_DELAY  721593 non-null  object\n",
      " 24  PriceExpirationTime                721593 non-null  object\n",
      " 25  MissReason                         721593 non-null  object\n",
      " 26  USDEquivalentAmount                721593 non-null  object\n",
      " 27  USDConverationPrice                721593 non-null  object\n",
      " 28  OrderPlacementPosition             721593 non-null  object\n",
      " 29  OrderActivationPosition            721593 non-null  object\n",
      " 30  MissPriceDeltaPips                 721593 non-null  object\n",
      " 31  PlacementSpread                    721532 non-null  object\n",
      " 32  ReceiveTimeEST                     721593 non-null  object\n",
      " 33  ActivationTimeEST                  721593 non-null  object\n",
      " 34  TradingWeek                        721593 non-null  object\n",
      " 35  TradeDate                          721593 non-null  object\n",
      " 36  MissDelta                          721593 non-null  object\n",
      " 37  ClientFirmName                     721593 non-null  object\n",
      " 38  ClientIdentified                   721593 non-null  object\n",
      " 39  USDAmountDone                      721593 non-null  object\n",
      " 40  USDAmountLeft                      721593 non-null  object\n",
      " 41  MissFillPartialAmountUSD           721593 non-null  object\n",
      " 42  YearQuarter                        721593 non-null  object\n",
      " 43  AggressivePassive                  721593 non-null  object\n",
      " 44  EndToEndLifetimeMs                 721593 non-null  object\n",
      " 45  WorkingLifetimeMs                  721593 non-null  object\n",
      " 46  TimeToActivationMics               721593 non-null  object\n",
      " 47  FutureMatch                        721593 non-null  object\n",
      " 48  FutureMatchMs                      721593 non-null  object\n",
      " 49  FutureMatchBucket                  721593 non-null  object\n",
      " 50  WorkingLifetimeBucket              721593 non-null  object\n",
      " 51  PRE_PLACEMENT_BOOK_JOIN_STATUS     721593 non-null  object\n",
      " 52  PRE_PLACEMENT_BOOK_JOIN_PRICE      721593 non-null  object\n",
      " 53  PRE_PLACEMENT_BOOK_JOIN_TIME       721593 non-null  object\n",
      "dtypes: object(54)\n",
      "memory usage: 297.3+ MB\n"
     ]
    }
   ],
   "source": [
    "df.info()"
   ]
  },
  {
   "cell_type": "code",
   "execution_count": 34,
   "metadata": {},
   "outputs": [],
   "source": [
    "join_orderid = df[['OrderId','PRE_PLACEMENT_BOOK_JOIN_STATUS','PRE_PLACEMENT_BOOK_JOIN_PRICE','PRE_PLACEMENT_BOOK_JOIN_TIME']]"
   ]
  },
  {
   "cell_type": "code",
   "execution_count": 35,
   "metadata": {},
   "outputs": [],
   "source": [
    "join_orderid.to_excel('preplacement_joins_and_orderid.xlsx')"
   ]
  },
  {
   "cell_type": "code",
   "execution_count": 36,
   "metadata": {},
   "outputs": [],
   "source": [
    "inside = pd.merge(af,join_orderid,left_on= 'OrderId',right_on='OrderId')"
   ]
  },
  {
   "cell_type": "code",
   "execution_count": 41,
   "metadata": {},
   "outputs": [
    {
     "data": {
      "text/plain": [
       "1008191"
      ]
     },
     "execution_count": 41,
     "metadata": {},
     "output_type": "execute_result"
    }
   ],
   "source": [
    "286598+721593"
   ]
  },
  {
   "cell_type": "code",
   "execution_count": 40,
   "metadata": {
    "scrolled": true
   },
   "outputs": [
    {
     "name": "stdout",
     "output_type": "stream",
     "text": [
      "<class 'pandas.core.frame.DataFrame'>\n",
      "RangeIndex: 721593 entries, 44 to 721636\n",
      "Data columns (total 4 columns):\n",
      " #   Column                          Non-Null Count   Dtype \n",
      "---  ------                          --------------   ----- \n",
      " 0   OrderId                         721593 non-null  object\n",
      " 1   PRE_PLACEMENT_BOOK_JOIN_STATUS  721593 non-null  object\n",
      " 2   PRE_PLACEMENT_BOOK_JOIN_PRICE   721593 non-null  object\n",
      " 3   PRE_PLACEMENT_BOOK_JOIN_TIME    721593 non-null  object\n",
      "dtypes: object(4)\n",
      "memory usage: 22.0+ MB\n"
     ]
    }
   ],
   "source": [
    "join_orderid.info()"
   ]
  },
  {
   "cell_type": "code",
   "execution_count": 51,
   "metadata": {},
   "outputs": [
    {
     "data": {
      "text/plain": [
       "7051"
      ]
     },
     "execution_count": 51,
     "metadata": {},
     "output_type": "execute_result"
    }
   ],
   "source": [
    "len(join_orderid['OrderId'].unique())"
   ]
  },
  {
   "cell_type": "code",
   "execution_count": 38,
   "metadata": {},
   "outputs": [
    {
     "name": "stdout",
     "output_type": "stream",
     "text": [
      "<class 'pandas.core.frame.DataFrame'>\n",
      "RangeIndex: 286598 entries, 0 to 286597\n",
      "Data columns (total 56 columns):\n",
      " #   Column                             Non-Null Count   Dtype         \n",
      "---  ------                             --------------   -----         \n",
      " 0   Unnamed: 0                         286598 non-null  int64         \n",
      " 1   Unnamed: 0.1                       286598 non-null  int64         \n",
      " 2   FirmName                           286598 non-null  object        \n",
      " 3   UserName                           286598 non-null  object        \n",
      " 4   ReceiveTime                        286598 non-null  datetime64[ns]\n",
      " 5   ActivationTime                     286598 non-null  datetime64[ns]\n",
      " 6   Year                               286598 non-null  int64         \n",
      " 7   WeekOfYear                         286598 non-null  int64         \n",
      " 8   MissClass                          285857 non-null  object        \n",
      " 9   OrderId                            286598 non-null  int64         \n",
      " 10  Symbol                             286598 non-null  object        \n",
      " 11  OrderType                          286598 non-null  object        \n",
      " 12  TIF                                286598 non-null  object        \n",
      " 13  BuySell                            286598 non-null  object        \n",
      " 14  MissFill                           286598 non-null  object        \n",
      " 15  MissFillPartial                    286598 non-null  object        \n",
      " 16  OrderPrice                         286598 non-null  float64       \n",
      " 17  OrderAmount                        286598 non-null  float64       \n",
      " 18  OrderAmountDone                    286598 non-null  float64       \n",
      " 19  PlacementBid                       286598 non-null  float64       \n",
      " 20  PlacementAsk                       286598 non-null  float64       \n",
      " 21  ActivationBid                      286598 non-null  float64       \n",
      " 22  ActivationAsk                      286598 non-null  float64       \n",
      " 23  MATCH_EXISTED_PRIOR_TO_PLACEMENT   286598 non-null  object        \n",
      " 24  MATCH_EXISTED_AT_PLACEMENT_TIME    286598 non-null  object        \n",
      " 25  MATCH_EXISTED_DURING_RANDOM_DELAY  286598 non-null  object        \n",
      " 26  PriceExpirationTime                286598 non-null  datetime64[ns]\n",
      " 27  MissReason                         286598 non-null  object        \n",
      " 28  USDEquivalentAmount                286598 non-null  float64       \n",
      " 29  USDConverationPrice                286598 non-null  float64       \n",
      " 30  OrderPlacementPosition             286598 non-null  object        \n",
      " 31  OrderActivationPosition            286598 non-null  object        \n",
      " 32  MissPriceDeltaPips                 286598 non-null  float64       \n",
      " 33  PlacementSpread                    286589 non-null  float64       \n",
      " 34  ReceiveTimeEST                     286598 non-null  datetime64[ns]\n",
      " 35  ActivationTimeEST                  286598 non-null  datetime64[ns]\n",
      " 36  TradingWeek                        286598 non-null  datetime64[ns]\n",
      " 37  TradeDate                          286598 non-null  datetime64[ns]\n",
      " 38  MissDelta                          286598 non-null  int64         \n",
      " 39  ClientFirmName                     286598 non-null  object        \n",
      " 40  ClientIdentified                   286598 non-null  object        \n",
      " 41  USDAmountDone                      286598 non-null  float64       \n",
      " 42  USDAmountLeft                      286598 non-null  float64       \n",
      " 43  MissFillPartialAmountUSD           286598 non-null  float64       \n",
      " 44  YearQuarter                        286598 non-null  int64         \n",
      " 45  AggressivePassive                  286598 non-null  object        \n",
      " 46  EndToEndLifetimeMs                 286598 non-null  int64         \n",
      " 47  WorkingLifetimeMs                  286598 non-null  int64         \n",
      " 48  TimeToActivationMics               286598 non-null  int64         \n",
      " 49  FutureMatch                        286598 non-null  object        \n",
      " 50  FutureMatchMs                      286598 non-null  int64         \n",
      " 51  FutureMatchBucket                  286598 non-null  object        \n",
      " 52  WorkingLifetimeBucket              286598 non-null  object        \n",
      " 53  bid_spread                         172667 non-null  float64       \n",
      " 54  ask_spread                         172667 non-null  float64       \n",
      " 55  Activation_Spread                  286598 non-null  float64       \n",
      "dtypes: datetime64[ns](7), float64(17), int64(11), object(21)\n",
      "memory usage: 122.4+ MB\n"
     ]
    }
   ],
   "source": [
    "af.info()"
   ]
  },
  {
   "cell_type": "code",
   "execution_count": 44,
   "metadata": {},
   "outputs": [],
   "source": [
    "insidenona = inside.dropna()"
   ]
  },
  {
   "cell_type": "code",
   "execution_count": 47,
   "metadata": {},
   "outputs": [],
   "source": [
    "unique_id = insidenona['OrderId'].unique()"
   ]
  },
  {
   "cell_type": "code",
   "execution_count": 49,
   "metadata": {},
   "outputs": [
    {
     "data": {
      "text/plain": [
       "1663"
      ]
     },
     "execution_count": 49,
     "metadata": {},
     "output_type": "execute_result"
    }
   ],
   "source": [
    "len(unique_id)"
   ]
  },
  {
   "cell_type": "code",
   "execution_count": 50,
   "metadata": {},
   "outputs": [
    {
     "data": {
      "text/plain": [
       "8777898"
      ]
     },
     "execution_count": 50,
     "metadata": {},
     "output_type": "execute_result"
    }
   ],
   "source": [
    "len(insidenona)"
   ]
  },
  {
   "cell_type": "code",
   "execution_count": null,
   "metadata": {},
   "outputs": [],
   "source": []
  }
 ],
 "metadata": {
  "kernelspec": {
   "display_name": "Python 3",
   "language": "python",
   "name": "python3"
  },
  "language_info": {
   "codemirror_mode": {
    "name": "ipython",
    "version": 3
   },
   "file_extension": ".py",
   "mimetype": "text/x-python",
   "name": "python",
   "nbconvert_exporter": "python",
   "pygments_lexer": "ipython3",
   "version": "3.8.3"
  }
 },
 "nbformat": 4,
 "nbformat_minor": 4
}
