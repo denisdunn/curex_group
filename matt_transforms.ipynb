{
 "cells": [
  {
   "cell_type": "code",
   "execution_count": null,
   "metadata": {},
   "outputs": [],
   "source": [
    "from datetime import datetime\n",
    "def change_time(x):\n",
    "    x = x[:-1]\n",
    "    dt_obj = datetime.strptime(x,'%Y-%m-%d %H:%M:%S.%f')\n",
    "    return dt_obj.timestamp()*1000"
   ]
  },
  {
   "cell_type": "code",
   "execution_count": null,
   "metadata": {},
   "outputs": [],
   "source": [
    "dollar_mean = df.groupby('Symbol').mean()['USDEquivalentAmount']\n",
    "dollar_std = df.groupby('Symbol').std()['USDEquivalentAmount']\n",
    "placement_spread_mean = df.groupby('Symbol').mean()['PlacementSpread']\n",
    "placement_spread_std = df.groupby('Symbol').std()['PlacementSpread']"
   ]
  },
  {
   "cell_type": "code",
   "execution_count": null,
   "metadata": {},
   "outputs": [],
   "source": [
    "df['Z_Score_USDEquivalentAmount'] = (df['USDEquivalentAmount']-df['USDEquivalentAmount_mean'])/df['USDEquivalentAmount_std']\n",
    "df['Z_Score_PlacementSpread'] = (df['PlacementSpread']-df['PlacementSpread_mean'])/df['PlacementSpread_std'] "
   ]
  },
  {
   "cell_type": "code",
   "execution_count": null,
   "metadata": {},
   "outputs": [],
   "source": [
    "test = [dollar_std, placement_spread_mean, dollar_mean, placement_spread_std]\n",
    "\n",
    "scores = pd.concat(test,axis=1)\n",
    "\n",
    "scores.reset_index(level=0, inplace=True)\n",
    "\n",
    "scores.columns = ['Symbol', 'USDEquivalentAmount_std', 'PlacementSpread_mean',\n",
    "       'USDEquivalentAmount_mean', 'PlacementSpread_std']"
   ]
  },
  {
   "cell_type": "code",
   "execution_count": null,
   "metadata": {},
   "outputs": [],
   "source": [
    "aggressive_dummy = pd.get_dummies(df['AggressivePassive'])\n",
    "\n",
    "order_position_dummy = pd.get_dummies(df['OrderActivationPosition'])\n",
    "\n",
    "buy_sell_dummy = pd.get_dummies(df['BuySell'])\n",
    "\n",
    "miss_fill = pd.get_dummies(df['MissFill'])\n",
    "\n",
    "testf = [miss_fill,aggressive_dummy,buy_sell_dummy,order_position_dummy,df]\n",
    "\n",
    "test_all_df = pd.concat(testf,join = 'outer',axis =1)"
   ]
  },
  {
   "cell_type": "code",
   "execution_count": null,
   "metadata": {},
   "outputs": [],
   "source": [
    "d['ActivationTime'] = df['ActivationTime'].apply(lambda x: change_time(x))"
   ]
  },
  {
   "cell_type": "code",
   "execution_count": null,
   "metadata": {},
   "outputs": [],
   "source": [
    "df['time_difference'] = df['ActivationTime'] - df['ReceiveTime']"
   ]
  }
 ],
 "metadata": {
  "kernelspec": {
   "display_name": "Python 3",
   "language": "python",
   "name": "python3"
  },
  "language_info": {
   "codemirror_mode": {
    "name": "ipython",
    "version": 3
   },
   "file_extension": ".py",
   "mimetype": "text/x-python",
   "name": "python",
   "nbconvert_exporter": "python",
   "pygments_lexer": "ipython3",
   "version": "3.8.3"
  }
 },
 "nbformat": 4,
 "nbformat_minor": 4
}
