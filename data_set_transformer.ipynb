{
 "cells": [
  {
   "cell_type": "code",
   "execution_count": 1,
   "metadata": {},
   "outputs": [],
   "source": [
    "import pandas as pd\n",
    "import time\n",
    "pd.set_option('display.max_columns', 500)\n",
    "from scipy.stats import zscore"
   ]
  },
  {
   "cell_type": "code",
   "execution_count": 2,
   "metadata": {},
   "outputs": [],
   "source": [
    "from datetime import datetime\n",
    "def change_time(x):\n",
    "    x = x[:-1]\n",
    "    dt_obj = datetime.strptime(x,'%Y-%m-%d %H:%M:%S.%f')\n",
    "    return dt_obj.timestamp()*1000"
   ]
  },
  {
   "cell_type": "code",
   "execution_count": 3,
   "metadata": {},
   "outputs": [],
   "source": [
    "def get_dummies(df,x):\n",
    "    return  pd.get_dummies(df[x])"
   ]
  },
  {
   "cell_type": "code",
   "execution_count": 112,
   "metadata": {},
   "outputs": [],
   "source": [
    "tobp= pd.read_csv(r\"C:\\Users\\ddunn.CUREXCURRENCY\\Desktop\\tob_test_placement_bid_added.csv\")"
   ]
  },
  {
   "cell_type": "code",
   "execution_count": 311,
   "metadata": {},
   "outputs": [],
   "source": [
    "df = pd.read_csv(r\"C:\\Users\\ddunn.CUREXCURRENCY\\Desktop\\denis_set.csv\")"
   ]
  },
  {
   "cell_type": "code",
   "execution_count": 5,
   "metadata": {},
   "outputs": [],
   "source": [
    "feba = pd.read_excel(r\"C:\\Users\\ddunn.CUREXCURRENCY\\Desktop\\Q12020\\feb_2020_activation.xlsx\")"
   ]
  },
  {
   "cell_type": "code",
   "execution_count": 6,
   "metadata": {},
   "outputs": [],
   "source": [
    "aprila = pd.read_excel(r\"C:\\Users\\ddunn.CUREXCURRENCY\\Desktop\\Q12020\\apr_2020_activation.xlsx\")"
   ]
  },
  {
   "cell_type": "code",
   "execution_count": 140,
   "metadata": {},
   "outputs": [],
   "source": [
    "a2 = pd.read_excel(r\"C:\\Users\\ddunn.CUREXCURRENCY\\Desktop\\apr_2020_activation.xlsx\")"
   ]
  },
  {
   "cell_type": "code",
   "execution_count": 147,
   "metadata": {},
   "outputs": [],
   "source": [
    "may = pd.read_excel(r\"C:\\Users\\ddunn.CUREXCURRENCY\\Desktop\\may_2020_activation.xlsx\")"
   ]
  },
  {
   "cell_type": "code",
   "execution_count": 148,
   "metadata": {},
   "outputs": [],
   "source": [
    "june = pd.read_excel(r\"C:\\Users\\ddunn.CUREXCURRENCY\\Desktop\\jun_2020_activation.xlsx\")"
   ]
  },
  {
   "cell_type": "code",
   "execution_count": 7,
   "metadata": {},
   "outputs": [],
   "source": [
    "jana = pd.read_excel(r\"C:\\Users\\ddunn.CUREXCURRENCY\\Desktop\\Q12020\\jan_2020_activation.xlsx\")"
   ]
  },
  {
   "cell_type": "code",
   "execution_count": 8,
   "metadata": {},
   "outputs": [],
   "source": [
    "marcha = pd.read_excel(r\"C:\\Users\\ddunn.CUREXCURRENCY\\Desktop\\Q12020\\mar_2020_activation.xlsx\")"
   ]
  },
  {
   "cell_type": "code",
   "execution_count": 279,
   "metadata": {},
   "outputs": [],
   "source": [
    "july = pd.read_excel(r\"C:\\Users\\ddunn.CUREXCURRENCY\\Desktop\\jul_2020_activation.xlsx\")"
   ]
  },
  {
   "cell_type": "code",
   "execution_count": 280,
   "metadata": {},
   "outputs": [],
   "source": [
    "aug = pd.read_excel(r\"C:\\Users\\ddunn.CUREXCURRENCY\\Desktop\\aug_2020_activation.xlsx\")"
   ]
  },
  {
   "cell_type": "code",
   "execution_count": 283,
   "metadata": {},
   "outputs": [],
   "source": [
    "sept = pd.read_excel(r\"C:\\Users\\ddunn.CUREXCURRENCY\\Desktop\\sep_2020_activation.xlsx\")"
   ]
  },
  {
   "cell_type": "code",
   "execution_count": 100,
   "metadata": {},
   "outputs": [],
   "source": [
    "q4 =pd.read_csv(r\"C:\\Users\\ddunn.CUREXCURRENCY\\Desktop\\q4.csv\")"
   ]
  },
  {
   "cell_type": "code",
   "execution_count": 116,
   "metadata": {},
   "outputs": [],
   "source": [
    "match = q4[['OrderId','OrderPlacementPosition']]"
   ]
  },
  {
   "cell_type": "code",
   "execution_count": 288,
   "metadata": {},
   "outputs": [],
   "source": [
    "quarter   = pd.merge(df,secondq,left_on='ORDERID',right_on='ORDERID',how='inner')"
   ]
  },
  {
   "cell_type": "code",
   "execution_count": 320,
   "metadata": {},
   "outputs": [],
   "source": [
    "quarter = secondq"
   ]
  },
  {
   "cell_type": "code",
   "execution_count": 128,
   "metadata": {
    "scrolled": true
   },
   "outputs": [],
   "source": [
    "dummy=pd.get_dummies(quart['OrderPlacementPosition'])"
   ]
  },
  {
   "cell_type": "code",
   "execution_count": 136,
   "metadata": {},
   "outputs": [],
   "source": [
    "fourth = pd.concat([quart,dummy],ignore_index=False,axis=1)"
   ]
  },
  {
   "cell_type": "code",
   "execution_count": 138,
   "metadata": {},
   "outputs": [],
   "source": [
    "fourth.to_csv('q4_with_tob_transformed.csv')"
   ]
  },
  {
   "cell_type": "code",
   "execution_count": 318,
   "metadata": {},
   "outputs": [],
   "source": [
    "\n",
    "# concat multiple dataframes together\n",
    "all_tob=[july,aug,sept]\n",
    "\n",
    "for df1 in all_tob:\n",
    "    df1.columns = ['ORDERID', 'TOB.BID_AMOUNT','TOB.ASK_AMOUNT']\n",
    "tob_q2 = pd.concat(all_tob).reset_index(drop=True)\n",
    "\n",
    "secondq=pd.merge(tob_q2,df,left_on = 'ORDERID',right_on='OrderId',how='inner')"
   ]
  },
  {
   "cell_type": "code",
   "execution_count": 112,
   "metadata": {},
   "outputs": [],
   "source": [
    "oldwithtob = pd.merge(tob_combo,old_df,left_on='ORDERID',right_on= 'OrderId',how = 'inner')"
   ]
  },
  {
   "cell_type": "code",
   "execution_count": 23,
   "metadata": {},
   "outputs": [],
   "source": [
    "af = pd.merge(tob_combo,df,left_on='ORDERID',right_on= 'OrderId',how = 'inner')"
   ]
  },
  {
   "cell_type": "code",
   "execution_count": 25,
   "metadata": {},
   "outputs": [],
   "source": [
    "old_df = pd.read_csv(r\"C:\\Users\\ddunn.CUREXCURRENCY\\Desktop\\all_data_with_book_join_preplacement.csv\")"
   ]
  },
  {
   "cell_type": "code",
   "execution_count": 90,
   "metadata": {},
   "outputs": [],
   "source": [
    "firstq=[feba,marcha,jana]\n",
    "\n",
    "for df in firstq:\n",
    "    df.columns = ['ORDERID', 'TOB.BID_AMOUNT','TOB.ASK_AMOUNT']\n",
    "firstq_tob = pd.concat(firstq).reset_index(drop=True)"
   ]
  },
  {
   "cell_type": "code",
   "execution_count": 91,
   "metadata": {
    "scrolled": true
   },
   "outputs": [],
   "source": [
    "q1 = pd.merge(final,firstq_tob,left_on = 'ORDERID',right_on='ORDERID',how='inner')"
   ]
  },
  {
   "cell_type": "code",
   "execution_count": 92,
   "metadata": {
    "scrolled": false
   },
   "outputs": [
    {
     "data": {
      "text/plain": [
       "485821"
      ]
     },
     "execution_count": 92,
     "metadata": {},
     "output_type": "execute_result"
    }
   ],
   "source": [
    "len(firstq_tob)"
   ]
  },
  {
   "cell_type": "code",
   "execution_count": 95,
   "metadata": {
    "scrolled": true
   },
   "outputs": [
    {
     "data": {
      "text/plain": [
       "326792"
      ]
     },
     "execution_count": 95,
     "metadata": {},
     "output_type": "execute_result"
    }
   ],
   "source": [
    "len(q1)+len(aprila)"
   ]
  },
  {
   "cell_type": "code",
   "execution_count": 97,
   "metadata": {},
   "outputs": [],
   "source": [
    "q1.to_csv('first_quarter_transformed.csv')"
   ]
  },
  {
   "cell_type": "code",
   "execution_count": 126,
   "metadata": {},
   "outputs": [
    {
     "data": {
      "text/plain": [
       "644566"
      ]
     },
     "execution_count": 126,
     "metadata": {},
     "output_type": "execute_result"
    }
   ],
   "source": [
    "len(tob_combo.drop_duplicates('ORDERID'))"
   ]
  },
  {
   "cell_type": "code",
   "execution_count": 99,
   "metadata": {},
   "outputs": [
    {
     "data": {
      "text/plain": [
       "259354"
      ]
     },
     "execution_count": 99,
     "metadata": {},
     "output_type": "execute_result"
    }
   ],
   "source": [
    "len(af.drop_duplicates('ORDERID'))"
   ]
  },
  {
   "cell_type": "code",
   "execution_count": 26,
   "metadata": {
    "scrolled": true
   },
   "outputs": [],
   "source": [
    "price = old_df[['OrderId','FirmName', 'UserName','OrderPrice','PlacementAsk','PlacementBid','OrderPlacementPosition']]"
   ]
  },
  {
   "cell_type": "code",
   "execution_count": 322,
   "metadata": {},
   "outputs": [],
   "source": [
    "fullq2 = pd.merge(quarter,price,left_on = 'ORDERID',right_on='OrderId',how='inner')"
   ]
  },
  {
   "cell_type": "code",
   "execution_count": 31,
   "metadata": {},
   "outputs": [],
   "source": [
    "total_df = pd.merge(af,price, left_on = 'ORDERID',right_on='OrderId',how='left')"
   ]
  },
  {
   "cell_type": "code",
   "execution_count": null,
   "metadata": {},
   "outputs": [],
   "source": [
    "dollar_mean = df.groupby('Symbol').mean()['USDEquivalentAmount']\n",
    "dollar_std = df.groupby('Symbol').std()['USDEquivalentAmount']\n",
    "placement_spread_mean = df.groupby('Symbol').mean()['PlacementSpread']\n",
    "placement_spread_std = df.groupby('Symbol').std()['PlacementSpread']"
   ]
  },
  {
   "cell_type": "code",
   "execution_count": null,
   "metadata": {},
   "outputs": [],
   "source": [
    "test = [dollar_std, placement_spread_mean, dollar_mean, placement_spread_std]\n",
    "\n",
    "scores = pd.concat(test,axis=1)\n",
    "\n",
    "scores.reset_index(level=0, inplace=True)\n",
    "\n",
    "scores.columns = ['Symbol', 'USDEquivalentAmount_std', 'PlacementSpread_mean',\n",
    "       'USDEquivalentAmount_mean', 'PlacementSpread_std']"
   ]
  },
  {
   "cell_type": "code",
   "execution_count": null,
   "metadata": {},
   "outputs": [],
   "source": [
    "df_scores_added = pd.merge(df,scores,left_on='Symbol',right_on='Symbol')"
   ]
  },
  {
   "cell_type": "code",
   "execution_count": null,
   "metadata": {},
   "outputs": [],
   "source": [
    "df_scores_added['Z_Score_USDEquivalentAmount'] = (df_scores_added['USDEquivalentAmount']-df_scores_added['USDEquivalentAmount_mean'])/df_scores_added['USDEquivalentAmount_std']\n",
    "df_scores_added['Z_Score_PlacementSpread'] = (df_scores_added['PlacementSpread']-df_scores_added['PlacementSpread_mean'])/df_scores_added['PlacementSpread_std']"
   ]
  },
  {
   "cell_type": "code",
   "execution_count": 36,
   "metadata": {},
   "outputs": [],
   "source": [
    "df_scores_added = total_df"
   ]
  },
  {
   "cell_type": "code",
   "execution_count": 40,
   "metadata": {},
   "outputs": [
    {
     "name": "stderr",
     "output_type": "stream",
     "text": [
      "<ipython-input-40-78c631dc73f1>:3: SettingWithCopyWarning: \n",
      "A value is trying to be set on a copy of a slice from a DataFrame.\n",
      "Try using .loc[row_indexer,col_indexer] = value instead\n",
      "\n",
      "See the caveats in the documentation: https://pandas.pydata.org/pandas-docs/stable/user_guide/indexing.html#returning-a-view-versus-a-copy\n",
      "  buy['buy_cross_book'] = buy['OrderPrice']-buy['PlacementAsk']\n",
      "<ipython-input-40-78c631dc73f1>:7: SettingWithCopyWarning: \n",
      "A value is trying to be set on a copy of a slice from a DataFrame.\n",
      "Try using .loc[row_indexer,col_indexer] = value instead\n",
      "\n",
      "See the caveats in the documentation: https://pandas.pydata.org/pandas-docs/stable/user_guide/indexing.html#returning-a-view-versus-a-copy\n",
      "  sell['sell_cross_book'] = sell['PlacementBid']-sell['OrderPrice']\n"
     ]
    }
   ],
   "source": [
    "buy = df_scores_added[df_scores_added['BuySell']=='BUY']\n",
    "\n",
    "buy['buy_cross_book'] = buy['OrderPrice']-buy['PlacementAsk']\n",
    "\n",
    "sell = df_scores_added[df_scores_added['BuySell']=='SELL']\n",
    "\n",
    "sell['sell_cross_book'] = sell['PlacementBid']-sell['OrderPrice']\n",
    "\n",
    "\n",
    "sell_df = sell[['ORDERID','sell_cross_book']]\n",
    "buy_df= buy[['ORDERID','buy_cross_book']]\n",
    "\n",
    "\n",
    "all_dfs=[sell_df,buy_df]"
   ]
  },
  {
   "cell_type": "code",
   "execution_count": 41,
   "metadata": {},
   "outputs": [],
   "source": [
    "for df in all_dfs:\n",
    "    df.columns = ['ORDERID', 'Cross_Book']\n",
    "test = pd.concat(all_dfs).reset_index(drop=True)"
   ]
  },
  {
   "cell_type": "code",
   "execution_count": 43,
   "metadata": {},
   "outputs": [],
   "source": [
    "cf = pd.merge(total_df,test,left_on ='ORDERID',right_on='ORDERID')"
   ]
  },
  {
   "cell_type": "code",
   "execution_count": 324,
   "metadata": {},
   "outputs": [],
   "source": [
    "cf=fullq2"
   ]
  },
  {
   "cell_type": "code",
   "execution_count": 326,
   "metadata": {},
   "outputs": [],
   "source": [
    "missfill =get_dummies(cf,'MissFill')"
   ]
  },
  {
   "cell_type": "code",
   "execution_count": 327,
   "metadata": {},
   "outputs": [],
   "source": [
    "aggpass = get_dummies(cf,'AggressivePassive')"
   ]
  },
  {
   "cell_type": "code",
   "execution_count": 328,
   "metadata": {},
   "outputs": [],
   "source": [
    "buysell = get_dummies(cf,'BuySell')"
   ]
  },
  {
   "cell_type": "code",
   "execution_count": 329,
   "metadata": {},
   "outputs": [],
   "source": [
    "opp = get_dummies(cf,'OrderPlacementPosition')"
   ]
  },
  {
   "cell_type": "code",
   "execution_count": 330,
   "metadata": {},
   "outputs": [],
   "source": [
    "cf['MISSED'] = missfill['MISSED']"
   ]
  },
  {
   "cell_type": "code",
   "execution_count": 331,
   "metadata": {},
   "outputs": [],
   "source": [
    "cf['AGGRESSIVE'] = aggpass['AGGRESSIVE']"
   ]
  },
  {
   "cell_type": "code",
   "execution_count": 332,
   "metadata": {},
   "outputs": [],
   "source": [
    "cf['BUY'] = buysell['BUY']"
   ]
  },
  {
   "cell_type": "code",
   "execution_count": 333,
   "metadata": {},
   "outputs": [],
   "source": [
    "cf['AWAY'] = opp['AWAY']"
   ]
  },
  {
   "cell_type": "code",
   "execution_count": 334,
   "metadata": {},
   "outputs": [],
   "source": [
    "cf['INSIDE'] = opp['INSIDE']"
   ]
  },
  {
   "cell_type": "code",
   "execution_count": 335,
   "metadata": {},
   "outputs": [],
   "source": [
    "cf['MATCH'] = opp['MATCH']"
   ]
  },
  {
   "cell_type": "code",
   "execution_count": 337,
   "metadata": {},
   "outputs": [],
   "source": [
    "cf['Price_vs_Mid_Spread'] = cf['OrderPrice']-(cf['PlacementBid']+(cf['PlacementAsk']-cf['PlacementBid'])/2)"
   ]
  },
  {
   "cell_type": "code",
   "execution_count": 338,
   "metadata": {},
   "outputs": [],
   "source": [
    "final = cf[['MISSED','ORDERID', 'TOB.BID_AMOUNT', 'TOB.ASK_AMOUNT',\n",
    "        'Symbol',  'BuySell',\n",
    "       'time_difference', 'z_USDEquivalentAmount', 'z_Denis_activation_spread',\n",
    "       'z_PlacementSpread', 'price_vs_placement_bid', 'price_vs_placement_ask',\n",
    "       'pre_placement_vs_received_time_diff',\n",
    "       'price_vs_pre_placement_book_join_price', 'FirmName',\n",
    "       'UserName',\n",
    "         'Price_vs_Mid_Spread',\n",
    "       'AGGRESSIVE', 'BUY', 'AWAY', 'INSIDE', 'MATCH']]"
   ]
  },
  {
   "cell_type": "code",
   "execution_count": 176,
   "metadata": {},
   "outputs": [],
   "source": [
    "final.to_csv('q2_transformed.csv')"
   ]
  },
  {
   "cell_type": "code",
   "execution_count": null,
   "metadata": {
    "scrolled": true
   },
   "outputs": [],
   "source": [
    "over[over['MissFill']=='MISSED']"
   ]
  },
  {
   "cell_type": "code",
   "execution_count": null,
   "metadata": {},
   "outputs": [],
   "source": [
    "scores = pd.DataFrame(score)"
   ]
  },
  {
   "cell_type": "code",
   "execution_count": null,
   "metadata": {},
   "outputs": [],
   "source": [
    "zamount = pd.merge(df,scores,left_on='Symbol',right_on='Symbol')"
   ]
  },
  {
   "cell_type": "code",
   "execution_count": null,
   "metadata": {},
   "outputs": [],
   "source": [
    "zamount['zscore_amount'] = USDEquivalentAmount_y"
   ]
  },
  {
   "cell_type": "code",
   "execution_count": null,
   "metadata": {},
   "outputs": [],
   "source": [
    "df['ActivationTimeEST'].apply(lambda x: change_time(x))"
   ]
  },
  {
   "cell_type": "code",
   "execution_count": null,
   "metadata": {},
   "outputs": [],
   "source": [
    "df['ActivationTimeEST'].iloc[1]"
   ]
  },
  {
   "cell_type": "code",
   "execution_count": 178,
   "metadata": {
    "scrolled": true
   },
   "outputs": [
    {
     "data": {
      "text/plain": [
       "array(['Anonymous', 'Identified'], dtype=object)"
      ]
     },
     "execution_count": 178,
     "metadata": {},
     "output_type": "execute_result"
    }
   ],
   "source": [
    "old_df['ClientIdentified'].unique()"
   ]
  },
  {
   "cell_type": "code",
   "execution_count": 193,
   "metadata": {
    "scrolled": true
   },
   "outputs": [],
   "source": [
    "j =old_df[old_df['FirmName']=='JPM']"
   ]
  },
  {
   "cell_type": "code",
   "execution_count": 191,
   "metadata": {},
   "outputs": [
    {
     "data": {
      "text/plain": [
       "array(['Anonymous', 'Identified'], dtype=object)"
      ]
     },
     "execution_count": 191,
     "metadata": {},
     "output_type": "execute_result"
    }
   ],
   "source": [
    "old_df['ClientIdentified'].unique()"
   ]
  },
  {
   "cell_type": "code",
   "execution_count": 183,
   "metadata": {},
   "outputs": [],
   "source": [
    "anom = old_df[['OrderId','ClientIdentified']]"
   ]
  },
  {
   "cell_type": "code",
   "execution_count": 214,
   "metadata": {},
   "outputs": [],
   "source": [
    "jpm = pd.read_csv(r\"C:\\Users\\ddunn.CUREXCURRENCY\\Desktop\\curex_group\\q4_with_tob_transformed.csv\")"
   ]
  },
  {
   "cell_type": "code",
   "execution_count": 343,
   "metadata": {},
   "outputs": [],
   "source": [
    "q4anon = pd.merge(final,anom,left_on='ORDERID',right_on = 'OrderId',how='inner')"
   ]
  },
  {
   "cell_type": "code",
   "execution_count": 346,
   "metadata": {},
   "outputs": [],
   "source": [
    "q4anon.to_csv('q3_with_anonymous.csv')"
   ]
  },
  {
   "cell_type": "code",
   "execution_count": null,
   "metadata": {},
   "outputs": [],
   "source": []
  }
 ],
 "metadata": {
  "kernelspec": {
   "display_name": "Python 3",
   "language": "python",
   "name": "python3"
  },
  "language_info": {
   "codemirror_mode": {
    "name": "ipython",
    "version": 3
   },
   "file_extension": ".py",
   "mimetype": "text/x-python",
   "name": "python",
   "nbconvert_exporter": "python",
   "pygments_lexer": "ipython3",
   "version": "3.8.3"
  }
 },
 "nbformat": 4,
 "nbformat_minor": 4
}
